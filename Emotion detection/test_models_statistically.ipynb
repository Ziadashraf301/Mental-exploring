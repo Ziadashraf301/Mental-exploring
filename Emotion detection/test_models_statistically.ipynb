{
 "cells": [
  {
   "attachments": {},
   "cell_type": "markdown",
   "metadata": {},
   "source": [
    "# Friedman test "
   ]
  },
  {
   "cell_type": "code",
   "execution_count": 40,
   "metadata": {},
   "outputs": [
    {
     "name": "stdout",
     "output_type": "stream",
     "text": [
      "Friedman's test statistic: 9.407407407407405\n",
      "p-value: 0.00906165319513779\n"
     ]
    },
    {
     "data": {
      "text/html": [
       "<div>\n",
       "<style scoped>\n",
       "    .dataframe tbody tr th:only-of-type {\n",
       "        vertical-align: middle;\n",
       "    }\n",
       "\n",
       "    .dataframe tbody tr th {\n",
       "        vertical-align: top;\n",
       "    }\n",
       "\n",
       "    .dataframe thead th {\n",
       "        text-align: right;\n",
       "    }\n",
       "</style>\n",
       "<table border=\"1\" class=\"dataframe\">\n",
       "  <thead>\n",
       "    <tr style=\"text-align: right;\">\n",
       "      <th></th>\n",
       "      <th>LR</th>\n",
       "      <th>MLP</th>\n",
       "      <th>CNN</th>\n",
       "    </tr>\n",
       "  </thead>\n",
       "  <tbody>\n",
       "    <tr>\n",
       "      <th>Accuracy</th>\n",
       "      <td>70.14</td>\n",
       "      <td>70.00</td>\n",
       "      <td>84.38</td>\n",
       "    </tr>\n",
       "    <tr>\n",
       "      <th>Precision_C1</th>\n",
       "      <td>0.72</td>\n",
       "      <td>0.67</td>\n",
       "      <td>0.85</td>\n",
       "    </tr>\n",
       "    <tr>\n",
       "      <th>Recall_C1</th>\n",
       "      <td>0.77</td>\n",
       "      <td>0.89</td>\n",
       "      <td>0.89</td>\n",
       "    </tr>\n",
       "    <tr>\n",
       "      <th>F1-score_C1</th>\n",
       "      <td>0.74</td>\n",
       "      <td>0.76</td>\n",
       "      <td>0.87</td>\n",
       "    </tr>\n",
       "    <tr>\n",
       "      <th>Precision_C2</th>\n",
       "      <td>0.67</td>\n",
       "      <td>0.75</td>\n",
       "      <td>0.85</td>\n",
       "    </tr>\n",
       "    <tr>\n",
       "      <th>Recall_C2</th>\n",
       "      <td>0.62</td>\n",
       "      <td>0.43</td>\n",
       "      <td>0.80</td>\n",
       "    </tr>\n",
       "    <tr>\n",
       "      <th>F1-score_C2</th>\n",
       "      <td>0.64</td>\n",
       "      <td>0.54</td>\n",
       "      <td>0.82</td>\n",
       "    </tr>\n",
       "  </tbody>\n",
       "</table>\n",
       "</div>"
      ],
      "text/plain": [
       "                 LR    MLP    CNN\n",
       "Accuracy      70.14  70.00  84.38\n",
       "Precision_C1   0.72   0.67   0.85\n",
       "Recall_C1      0.77   0.89   0.89\n",
       "F1-score_C1    0.74   0.76   0.87\n",
       "Precision_C2   0.67   0.75   0.85\n",
       "Recall_C2      0.62   0.43   0.80\n",
       "F1-score_C2    0.64   0.54   0.82"
      ]
     },
     "execution_count": 40,
     "metadata": {},
     "output_type": "execute_result"
    }
   ],
   "source": [
    "import numpy as np\n",
    "from scipy.stats import friedmanchisquare\n",
    "import scikit_posthocs as sp\n",
    "import pandas as pd\n",
    "model_names = ['LR','MLP','CNN'] #columns\n",
    "measures = [\"Accuracy\",\"Precision_C1\",\"Recall_C1\",\"F1-score_C1\",\"Precision_C2\",\"Recall_C2\",\"F1-score_C2\"] #rows\n",
    "            \n",
    "accuracies = np.array( [[70.14,\t70,\t84.38],\n",
    "                        [0.72, 0.67, 0.85],\n",
    "                        [0.77, 0.89, 0.89],\n",
    "                        [0.74, 0.76, 0.87],\n",
    "                        [0.67, 0.75, 0.85],\n",
    "                        [0.62, 0.43, 0.8 ],\n",
    "                        [0.64, 0.54, 0.82]])\n",
    "\n",
    "\n",
    "# Perform the Friedman's test\n",
    "# statistic, p_value = friedmanchisquare(*(ranks.T))\n",
    "statistic, p_value = friedmanchisquare(*(accuracies.T))\n",
    "print(\"Friedman's test statistic:\", statistic)\n",
    "print(\"p-value:\", p_value)\n",
    "pd.DataFrame(accuracies,columns=model_names,index=measures )"
   ]
  },
  {
   "attachments": {},
   "cell_type": "markdown",
   "metadata": {},
   "source": [
    "The Friedman's test statistic of 9.407 and the p-value of 0.0091 suggest that there is a significant difference in the performance of the classifiers.\n",
    "\n",
    "Looking at the performance metrics, we can see that CNN has the highest accuracy at 84.38%. For class 2, CNN has the highest precision, recall, and F1-score, while for class 1, CNN and MLP have the highest precision, respectively. So, we will use the Nemenyi test also here.\n",
    "The Nemenyi test is a post-hoc test used to determine which pairs of models differ significantly from each other after performing a Friedman test. The test is based on the ranks of the models and uses a critical value based on the Studentized range distribution to determine if the difference between two models is significant at a specified level of significance.\n"
   ]
  },
  {
   "attachments": {},
   "cell_type": "markdown",
   "metadata": {},
   "source": [
    "# Nemenyi test "
   ]
  },
  {
   "cell_type": "code",
   "execution_count": 43,
   "metadata": {},
   "outputs": [
    {
     "data": {
      "text/html": [
       "<div>\n",
       "<style scoped>\n",
       "    .dataframe tbody tr th:only-of-type {\n",
       "        vertical-align: middle;\n",
       "    }\n",
       "\n",
       "    .dataframe tbody tr th {\n",
       "        vertical-align: top;\n",
       "    }\n",
       "\n",
       "    .dataframe thead th {\n",
       "        text-align: right;\n",
       "    }\n",
       "</style>\n",
       "<table border=\"1\" class=\"dataframe\">\n",
       "  <thead>\n",
       "    <tr style=\"text-align: right;\">\n",
       "      <th></th>\n",
       "      <th>LR</th>\n",
       "      <th>MLP</th>\n",
       "      <th>CNN</th>\n",
       "    </tr>\n",
       "  </thead>\n",
       "  <tbody>\n",
       "    <tr>\n",
       "      <th>LR</th>\n",
       "      <td>-1.000000</td>\n",
       "      <td>0.900000</td>\n",
       "      <td>0.029915</td>\n",
       "    </tr>\n",
       "    <tr>\n",
       "      <th>MLP</th>\n",
       "      <td>0.900000</td>\n",
       "      <td>-1.000000</td>\n",
       "      <td>0.020573</td>\n",
       "    </tr>\n",
       "    <tr>\n",
       "      <th>CNN</th>\n",
       "      <td>0.029915</td>\n",
       "      <td>0.020573</td>\n",
       "      <td>-1.000000</td>\n",
       "    </tr>\n",
       "  </tbody>\n",
       "</table>\n",
       "</div>"
      ],
      "text/plain": [
       "           LR       MLP       CNN\n",
       "LR  -1.000000  0.900000  0.029915\n",
       "MLP  0.900000 -1.000000  0.020573\n",
       "CNN  0.029915  0.020573 -1.000000"
      ]
     },
     "execution_count": 43,
     "metadata": {},
     "output_type": "execute_result"
    }
   ],
   "source": [
    "# Conduct the Nemenyi post-hoc test\n",
    "nemenyi = sp.posthoc_nemenyi_friedman(accuracies)\n",
    "nemenyi.columns = model_names\n",
    "nemenyi.index = model_names\n",
    "nemenyi"
   ]
  },
  {
   "attachments": {},
   "cell_type": "markdown",
   "metadata": {},
   "source": [
    "The table suggests that there are statistically significant differences between the performance of the three models on the task being evaluated. The LR and MLP models appear to be more similar in performance than either of them is to the CNN model."
   ]
  },
  {
   "cell_type": "code",
   "execution_count": 42,
   "metadata": {},
   "outputs": [
    {
     "data": {
      "text/plain": [
       "(<AxesSubplot:>, <matplotlib.colorbar.Colorbar at 0x1d6064a6ee0>)"
      ]
     },
     "execution_count": 42,
     "metadata": {},
     "output_type": "execute_result"
    },
    {
     "data": {
      "image/png": "[encoded data removed]",
      "text/plain": [
       "<Figure size 432x288 with 2 Axes>"
      ]
     },
     "metadata": {
      "needs_background": "light"
     },
     "output_type": "display_data"
    }
   ],
   "source": [
    "heatmap_args = {'linewidths': 0.25, 'linecolor': '0.5', 'clip_on': False, 'square': True, 'cbar_ax_bbox': [0.80, 0.35, 0.04, 0.3]}\n",
    "sp.sign_plot(nemenyi, **heatmap_args)"
   ]
  }
 ],
 "metadata": {
  "kernelspec": {
   "display_name": "base",
   "language": "python",
   "name": "python3"
  },
  "language_info": {
   "codemirror_mode": {
    "name": "ipython",
    "version": 3
   },
   "file_extension": ".py",
   "mimetype": "text/x-python",
   "name": "python",
   "nbconvert_exporter": "python",
   "pygments_lexer": "ipython3",
   "version": "3.9.12"
  },
  "orig_nbformat": 4
 },
 "nbformat": 4,
 "nbformat_minor": 2
}
