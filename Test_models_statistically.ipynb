{
 "cells": [
  {
   "attachments": {},
   "cell_type": "markdown",
   "metadata": {},
   "source": [
    "# Friedman test "
   ]
  },
  {
   "cell_type": "code",
   "execution_count": 8,
   "metadata": {},
   "outputs": [
    {
     "name": "stdout",
     "output_type": "stream",
     "text": [
      "Friedman's test statistic: 13.747899159663858\n",
      "p-value: 0.008144684356603314\n"
     ]
    },
    {
     "data": {
      "text/html": [
       "<div>\n",
       "<style scoped>\n",
       "    .dataframe tbody tr th:only-of-type {\n",
       "        vertical-align: middle;\n",
       "    }\n",
       "\n",
       "    .dataframe tbody tr th {\n",
       "        vertical-align: top;\n",
       "    }\n",
       "\n",
       "    .dataframe thead th {\n",
       "        text-align: right;\n",
       "    }\n",
       "</style>\n",
       "<table border=\"1\" class=\"dataframe\">\n",
       "  <thead>\n",
       "    <tr style=\"text-align: right;\">\n",
       "      <th></th>\n",
       "      <th>MNB</th>\n",
       "      <th>KNN</th>\n",
       "      <th>DT</th>\n",
       "      <th>RF</th>\n",
       "      <th>SGD</th>\n",
       "    </tr>\n",
       "  </thead>\n",
       "  <tbody>\n",
       "    <tr>\n",
       "      <th>CVM</th>\n",
       "      <td>86.10</td>\n",
       "      <td>74.12</td>\n",
       "      <td>82.67</td>\n",
       "      <td>81.89</td>\n",
       "      <td>88.73</td>\n",
       "    </tr>\n",
       "    <tr>\n",
       "      <th>Specificity</th>\n",
       "      <td>82.60</td>\n",
       "      <td>31.52</td>\n",
       "      <td>89.80</td>\n",
       "      <td>90.40</td>\n",
       "      <td>87.40</td>\n",
       "    </tr>\n",
       "    <tr>\n",
       "      <th>AUC</th>\n",
       "      <td>93.20</td>\n",
       "      <td>80.00</td>\n",
       "      <td>86.87</td>\n",
       "      <td>88.65</td>\n",
       "      <td>94.40</td>\n",
       "    </tr>\n",
       "    <tr>\n",
       "      <th>Precision</th>\n",
       "      <td>0.83</td>\n",
       "      <td>0.79</td>\n",
       "      <td>0.88</td>\n",
       "      <td>0.88</td>\n",
       "      <td>0.87</td>\n",
       "    </tr>\n",
       "    <tr>\n",
       "      <th>Recall</th>\n",
       "      <td>0.90</td>\n",
       "      <td>0.65</td>\n",
       "      <td>0.75</td>\n",
       "      <td>0.73</td>\n",
       "      <td>0.87</td>\n",
       "    </tr>\n",
       "    <tr>\n",
       "      <th>F1-score</th>\n",
       "      <td>0.86</td>\n",
       "      <td>0.71</td>\n",
       "      <td>0.81</td>\n",
       "      <td>0.80</td>\n",
       "      <td>0.87</td>\n",
       "    </tr>\n",
       "  </tbody>\n",
       "</table>\n",
       "</div>"
      ],
      "text/plain": [
       "               MNB    KNN     DT     RF    SGD\n",
       "CVM          86.10  74.12  82.67  81.89  88.73\n",
       "Specificity  82.60  31.52  89.80  90.40  87.40\n",
       "AUC          93.20  80.00  86.87  88.65  94.40\n",
       "Precision     0.83   0.79   0.88   0.88   0.87\n",
       "Recall        0.90   0.65   0.75   0.73   0.87\n",
       "F1-score      0.86   0.71   0.81   0.80   0.87"
      ]
     },
     "execution_count": 8,
     "metadata": {},
     "output_type": "execute_result"
    }
   ],
   "source": [
    "import numpy as np\n",
    "from scipy.stats import friedmanchisquare\n",
    "import scikit_posthocs as sp\n",
    "import pandas as pd\n",
    "\n",
    "model_names = ['MNB', 'KNN', 'DT', 'RF', 'SGD'] #columns\n",
    "measures = [\"CVM\",\"Specificity\",\"AUC\",\"Precision\",\"Recall\",\"F1-score\"] #rows\n",
    "            \n",
    "accuracies = np.array( [[86.10,74.12,82.67,81.89,88.73],\n",
    "                       [82.6,31.52,89.8,90.4,87.4],\n",
    "                       [93.2,80,86.87,88.65,94.4],\n",
    "                       [0.83,0.79,0.88,0.88,0.87],\n",
    "                       [0.90,0.65,0.75,0.73,0.87],\n",
    "                       [0.86,0.71,0.81,0.80,0.87]])\n",
    "\n",
    "\n",
    "# Perform the Friedman's test\n",
    "statistic, p_value = friedmanchisquare(*(accuracies.T))\n",
    "\n",
    "print(\"Friedman's test statistic:\", statistic)\n",
    "\n",
    "print(\"p-value:\", p_value)\n",
    "\n",
    "pd.DataFrame(accuracies,columns=model_names,index=measures )"
   ]
  },
  {
   "attachments": {},
   "cell_type": "markdown",
   "metadata": {},
   "source": [
    "The Friedman's test statistic is a statistical test used to determine whether there are significant differences in performance between multiple models.In this case, the Friedman test statistic of 13.75 and the p-value of 0.0081 suggest that there is a significant difference in the performance of the classifiers."
   ]
  },
  {
   "attachments": {},
   "cell_type": "markdown",
   "metadata": {},
   "source": [
    "# Nemenyi test "
   ]
  },
  {
   "cell_type": "code",
   "execution_count": 9,
   "metadata": {},
   "outputs": [
    {
     "data": {
      "text/html": [
       "<div>\n",
       "<style scoped>\n",
       "    .dataframe tbody tr th:only-of-type {\n",
       "        vertical-align: middle;\n",
       "    }\n",
       "\n",
       "    .dataframe tbody tr th {\n",
       "        vertical-align: top;\n",
       "    }\n",
       "\n",
       "    .dataframe thead th {\n",
       "        text-align: right;\n",
       "    }\n",
       "</style>\n",
       "<table border=\"1\" class=\"dataframe\">\n",
       "  <thead>\n",
       "    <tr style=\"text-align: right;\">\n",
       "      <th></th>\n",
       "      <th>MNB</th>\n",
       "      <th>KNN</th>\n",
       "      <th>DT</th>\n",
       "      <th>RF</th>\n",
       "      <th>SGD</th>\n",
       "    </tr>\n",
       "  </thead>\n",
       "  <tbody>\n",
       "    <tr>\n",
       "      <th>MNB</th>\n",
       "      <td>-1.000000</td>\n",
       "      <td>0.048539</td>\n",
       "      <td>0.900000</td>\n",
       "      <td>0.900000</td>\n",
       "      <td>0.900000</td>\n",
       "    </tr>\n",
       "    <tr>\n",
       "      <th>KNN</th>\n",
       "      <td>0.048539</td>\n",
       "      <td>-1.000000</td>\n",
       "      <td>0.098676</td>\n",
       "      <td>0.150575</td>\n",
       "      <td>0.004751</td>\n",
       "    </tr>\n",
       "    <tr>\n",
       "      <th>DT</th>\n",
       "      <td>0.900000</td>\n",
       "      <td>0.098676</td>\n",
       "      <td>-1.000000</td>\n",
       "      <td>0.900000</td>\n",
       "      <td>0.835462</td>\n",
       "    </tr>\n",
       "    <tr>\n",
       "      <th>RF</th>\n",
       "      <td>0.900000</td>\n",
       "      <td>0.150575</td>\n",
       "      <td>0.900000</td>\n",
       "      <td>-1.000000</td>\n",
       "      <td>0.731848</td>\n",
       "    </tr>\n",
       "    <tr>\n",
       "      <th>SGD</th>\n",
       "      <td>0.900000</td>\n",
       "      <td>0.004751</td>\n",
       "      <td>0.835462</td>\n",
       "      <td>0.731848</td>\n",
       "      <td>-1.000000</td>\n",
       "    </tr>\n",
       "  </tbody>\n",
       "</table>\n",
       "</div>"
      ],
      "text/plain": [
       "          MNB       KNN        DT        RF       SGD\n",
       "MNB -1.000000  0.048539  0.900000  0.900000  0.900000\n",
       "KNN  0.048539 -1.000000  0.098676  0.150575  0.004751\n",
       "DT   0.900000  0.098676 -1.000000  0.900000  0.835462\n",
       "RF   0.900000  0.150575  0.900000 -1.000000  0.731848\n",
       "SGD  0.900000  0.004751  0.835462  0.731848 -1.000000"
      ]
     },
     "execution_count": 9,
     "metadata": {},
     "output_type": "execute_result"
    }
   ],
   "source": [
    "# Conduct the Nemenyi post-hoc test\n",
    "nemenyi = sp.posthoc_nemenyi_friedman(accuracies)\n",
    "nemenyi.columns = model_names\n",
    "nemenyi.index = model_names\n",
    "nemenyi"
   ]
  },
  {
   "attachments": {},
   "cell_type": "markdown",
   "metadata": {},
   "source": [
    "Based on this table, it appears that MNB, DT, and SGD have very similar performance, with pairwise scores ranging from 0.73 to 0.9. KNN and RF have lower pairwise scores with the other models, ranging from 0 to 0.15."
   ]
  },
  {
   "cell_type": "code",
   "execution_count": 10,
   "metadata": {},
   "outputs": [
    {
     "data": {
      "text/plain": [
       "(<AxesSubplot:>, <matplotlib.colorbar.Colorbar at 0x257a8fea8e0>)"
      ]
     },
     "execution_count": 10,
     "metadata": {},
     "output_type": "execute_result"
    },
    {
     "data": {
      "image/png": "[encoded data removed]",
      "text/plain": [
       "<Figure size 432x288 with 2 Axes>"
      ]
     },
     "metadata": {
      "needs_background": "light"
     },
     "output_type": "display_data"
    }
   ],
   "source": [
    "heatmap_args = {'linewidths': 0.25, 'linecolor': '0.5', 'clip_on': False, 'square': True, 'cbar_ax_bbox': [0.80, 0.35, 0.04, 0.3]}\n",
    "sp.sign_plot(nemenyi, **heatmap_args)"
   ]
  },
  {
   "attachments": {},
   "cell_type": "markdown",
   "metadata": {},
   "source": [
    "Based on the Nemenyi test, it appears that there are statistically significant differences between the performance of the five models that were tested. The results indicate that:\n",
    "\n",
    "Multinomial Naive Bayes (MNB) is significantly different from K-Nearest Neighbors (KNN), and KNN is significantly different from Stochastic Gradient Descent (SGD).\n",
    "Decision Trees (DT) and Random Forests (RF) do not show significant differences in performance with any of the other models.\n",
    "MNB, DT, and RF are not significantly different from each other.\n",
    "It's worth noting that the Nemenyi test is a pairwise comparison test, so the results only indicate whether there is a significant difference in performance between pairs of models, rather than providing an overall ranking of the models."
   ]
  }
 ],
 "metadata": {
  "kernelspec": {
   "display_name": "base",
   "language": "python",
   "name": "python3"
  },
  "language_info": {
   "codemirror_mode": {
    "name": "ipython",
    "version": 3
   },
   "file_extension": ".py",
   "mimetype": "text/x-python",
   "name": "python",
   "nbconvert_exporter": "python",
   "pygments_lexer": "ipython3",
   "version": "3.9.12"
  },
  "orig_nbformat": 4
 },
 "nbformat": 4,
 "nbformat_minor": 2
}
