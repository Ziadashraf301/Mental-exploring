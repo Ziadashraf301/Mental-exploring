{
 "cells": [
  {
   "cell_type": "code",
   "execution_count": 1,
   "metadata": {},
   "outputs": [],
   "source": [
    "import string\n",
    "import re\n",
    "import pandas as pd\n",
    "from tqdm import tqdm #adding progress bars to show the processing\n",
    "import preprocessor as p\n",
    "from  nltk.tokenize import word_tokenize \n",
    "from nltk.corpus import stopwords\n",
    "from nltk.stem import WordNetLemmatizer"
   ]
  },
  {
   "attachments": {},
   "cell_type": "markdown",
   "metadata": {},
   "source": [
    "# Data preprocessing steps"
   ]
  },
  {
   "attachments": {},
   "cell_type": "markdown",
   "metadata": {},
   "source": [
    "**Preprocessing here is done by two methods:**\n",
    "\n",
    "### Method1: \n",
    "Using tweet-preprocessor. Preprocessor is a preprocessing library for tweet data written in Python. When building Machine Learning systems based on tweet data, preprocessing is required. This library makes it easy to clean, parse or tokenize the tweets.\n",
    "\n",
    "### Method2:\n",
    " We’ve manually defined a function to double-check our tweet preprocessing and it’s always better to be sure that our data is cleaned 100%. The method called clean_tweets(tweet) will clean some remains of the Twitter data left undone by the tweet-preprocessor and double-check emoticons and emojis because some older version of mobile’s emoticons is not supported in the tweet preprocessor’s clean method (Method1).\n",
    "\n",
    "#### Preprocessing techniques\n",
    "* Handle Emoticons and Emojis\n",
    "* Removing mentions\n",
    "* Remove consecutive non-ASCII characters\n",
    "* Remove punctuation and numbers\n",
    "* Remove the word if it less than 4 character\n",
    "* Remove stop words\n",
    "* Applay lemmatization and stemming on the words"
   ]
  },
  {
   "attachments": {},
   "cell_type": "markdown",
   "metadata": {},
   "source": [
    " Let’s declare a series of emoticons (Happy & Sad) because we don’t need the old school emoticons in the middle of a sentence blocking us against our sentiment analysis."
   ]
  },
  {
   "cell_type": "code",
   "execution_count": 2,
   "metadata": {},
   "outputs": [],
   "source": [
    "#HappyEmoticons\n",
    "emoticons_happy = set([\n",
    "    ':-)', ':)', ';)', ':o)', ':]', ':3', ':c)', ':>', '=]', '8)', '=)', ':}',\n",
    "   ':^)', ':-D', ':D', '8-D', '8D', 'x-D', 'xD', 'X-D', 'XD', '=-D', '=D','=-3', '=3', ':-))',\n",
    "    \":'-)\", \":')\", ':*', ':^*', '>:P', ':-P', ':P', 'X-P','x-p', 'xp', 'XP', ':-p', ':p', '=p',\n",
    "    ':-b', ':b', '>:)', '>;)', '>:-)','<3'\n",
    "    ])\n",
    "\n",
    "# Sad Emoticons\n",
    "emoticons_sad = set([\n",
    "    ':L', ':-/', '>:/', ':S', '>:[', ':@', ':-(', ':[', ':-||', '=L', ':<',\n",
    "    ':-[', ':-<', '=\\\\', '=/', '>:(', ':(', '>.<', \":'-(\", \":'(\", ':\\\\', ':-c',\n",
    "    ':c', ':{', '>:\\\\', ';('\n",
    "    ])"
   ]
  },
  {
   "attachments": {},
   "cell_type": "markdown",
   "metadata": {},
   "source": [
    "Because that’s a must, nowadays people don’t tweet without emojis, as in a matter of fact it became another language, so have to come up with a plan to do so."
   ]
  },
  {
   "cell_type": "code",
   "execution_count": 3,
   "metadata": {},
   "outputs": [],
   "source": [
    "#Emoji patterns\n",
    "emoji_pattern = re.compile(\"[\"\n",
    "         u\"\\U0001F600-\\U0001F64F\"  # emoticons\n",
    "         u\"\\U0001F300-\\U0001F5FF\"  # symbols & pictographs\n",
    "         u\"\\U0001F680-\\U0001F6FF\"  # transport & map symbols\n",
    "         u\"\\U0001F1E0-\\U0001F1FF\"  # flags (iOS)\n",
    "         u\"\\U00002702-\\U000027B0\"\n",
    "         u\"\\U000024C2-\\U0001F251\"\n",
    "         \"]+\", flags=re.UNICODE)\n"
   ]
  },
  {
   "attachments": {},
   "cell_type": "markdown",
   "metadata": {},
   "source": [
    "And then we combine both happy and sad emoticon array-lists first:"
   ]
  },
  {
   "cell_type": "code",
   "execution_count": 4,
   "metadata": {},
   "outputs": [],
   "source": [
    "#combine sad and happy emoticons\n",
    "emoticons = emoticons_happy.union(emoticons_sad)"
   ]
  },
  {
   "attachments": {},
   "cell_type": "markdown",
   "metadata": {},
   "source": [
    "Define the lemmatization"
   ]
  },
  {
   "cell_type": "code",
   "execution_count": 5,
   "metadata": {},
   "outputs": [],
   "source": [
    "#stemmer = SnowballStemmer(\"english\")\n",
    "lemmatizer = WordNetLemmatizer()"
   ]
  },
  {
   "cell_type": "code",
   "execution_count": 5,
   "metadata": {},
   "outputs": [],
   "source": [
    "# words difficult to detect by the preprocessing modules\n",
    "difficult_to_detect = [\"'re\",\"'s\",\"'m\",\"'ve\",\"n't\",\"...\",\"``\",\"'\",\"im\",\n",
    "    \"ca\",\"itv\",\"-\",\"a.\",\"dont\",\"us\",\"could\",\"can\",\"'d\",\"__\",'aaron', 'ab', \n",
    "    'zurab', 'zwart', 'zyl',\"ll\",\"u\",'__', '___', '____','a', 'about', 'above', 'after', 'again', 'ain', 'all', 'am', 'an',\n",
    "             'and','any','are', 'as', 'at', 'be', 'because', 'been', 'before',\n",
    "             'being', 'below', 'between','both', 'by', 'can', 'd', 'did', 'do',\n",
    "             'does', 'doing', 'down', 'during', 'each','few', 'for', 'from', \n",
    "             'further', 'had', 'has', 'have', 'having', 'he', 'her', 'here',\n",
    "             'hers', 'herself', 'him', 'himself', 'his', 'how', 'i', 'if', 'in',\n",
    "             'into','is', 'it', 'its', 'itself', 'just', 'll', 'm', 'ma',\n",
    "             'me', 'more', 'most','my', 'myself', 'now', 'o', 'of', 'on', 'once',\n",
    "             'only', 'or', 'other', 'our', 'ours','ourselves', 'out', 'own', 're',\n",
    "             's', 'same', 'she', \"shes\", 'should', \"shouldve\",'so', 'some', 'such',\n",
    "             't', 'than', 'that', \"thatll\", 'the', 'their', 'theirs', 'them',\n",
    "             'themselves', 'then', 'there', 'these', 'they', 'this', 'those', \n",
    "             'through', 'to', 'too','under', 'until', 'up', 've', 'very', 'was',\n",
    "             'we', 'were', 'what', 'when', 'where','which','while', 'who', 'whom',\n",
    "             'why', 'will', 'with', 'won', 'y', 'you', \"youd\",\"youll\", \"youre\",\n",
    "             \"youve\", 'your', 'yours', 'yourself', 'yourselves']\n",
    "\n",
    "difficult_to_detect = set(difficult_to_detect)"
   ]
  },
  {
   "attachments": {},
   "cell_type": "markdown",
   "metadata": {},
   "source": [
    "Declare the clean_tweets function"
   ]
  },
  {
   "cell_type": "code",
   "execution_count": 6,
   "metadata": {},
   "outputs": [],
   "source": [
    "def clean_tweets(tweet):\n",
    "\n",
    "    tweet = tweet.lower() #lower the words to be in the same format for the modules\n",
    "\n",
    "    tweet = re.sub (r':', '', tweet) #after tweepy preprocessing the colon symbol left remain after\n",
    "\n",
    "    tweet = re.sub (r',ÄI', '', tweet) #removing mentions\n",
    "    \n",
    "    tweet = re.sub (r'[^\\x00-\\x7F]+','', tweet) #replace consecutive non-ASCII characters with a space\n",
    "    \n",
    "    tweet = emoji_pattern.sub (r'', tweet)  #remove emojis from tweet\n",
    "    \n",
    "    tweet = re.sub('[0-9]+', '', tweet) #remove numbers\n",
    "\n",
    "    tweet = re.sub(f'[{string.punctuation}]','',tweet) #remove punctuation \n",
    "    \n",
    "    stop_words = set(stopwords.words('english')) #get the stop words\n",
    "\n",
    "    word_tokens = word_tokenize(tweet) #extract the tokens from string of characters\n",
    "    \n",
    "\n",
    "    filtered_tweet = [] \n",
    "\n",
    "    #looping through conditions to filter the words\n",
    "    for w in word_tokens:\n",
    "        \n",
    "        #check tokens against stop words, emoticons and words difficult to detect \n",
    "        if w not in stop_words and w not in emoticons and w not in difficult_to_detect:\n",
    "\n",
    "            if len(w)>1: #remove the word if it less than 2 character\n",
    "\n",
    "                w = lemmatizer.lemmatize(w) # Applay lemmatization on the word \n",
    "\n",
    "                filtered_tweet.append(w) #Append the pure word to the list after cleaning\n",
    "\n",
    "    return ' '.join(filtered_tweet) #Reconstruct the tweet after cleaning"
   ]
  },
  {
   "attachments": {},
   "cell_type": "markdown",
   "metadata": {},
   "source": [
    "# Data collection and preprocessing"
   ]
  },
  {
   "attachments": {},
   "cell_type": "markdown",
   "metadata": {},
   "source": [
    "We have collected data using Twitter API, from older research and projects that discussed depression and anxiety detection, and from the Reddit site. The data collection process was iterable with the process cycle of the project."
   ]
  },
  {
   "attachments": {},
   "cell_type": "markdown",
   "metadata": {},
   "source": [
    "### Version 1 of the data\n"
   ]
  },
  {
   "attachments": {},
   "cell_type": "markdown",
   "metadata": {},
   "source": [
    "In the first cycle, we gathered data that have 20000 rows and then trained the first version of the models using it."
   ]
  },
  {
   "cell_type": "code",
   "execution_count": 8,
   "metadata": {},
   "outputs": [
    {
     "data": {
      "text/html": [
       "<div>\n",
       "<style scoped>\n",
       "    .dataframe tbody tr th:only-of-type {\n",
       "        vertical-align: middle;\n",
       "    }\n",
       "\n",
       "    .dataframe tbody tr th {\n",
       "        vertical-align: top;\n",
       "    }\n",
       "\n",
       "    .dataframe thead th {\n",
       "        text-align: right;\n",
       "    }\n",
       "</style>\n",
       "<table border=\"1\" class=\"dataframe\">\n",
       "  <thead>\n",
       "    <tr style=\"text-align: right;\">\n",
       "      <th></th>\n",
       "      <th>Unnamed: 0</th>\n",
       "      <th>post_id</th>\n",
       "      <th>post_created</th>\n",
       "      <th>post_text</th>\n",
       "      <th>user_id</th>\n",
       "      <th>followers</th>\n",
       "      <th>friends</th>\n",
       "      <th>favourites</th>\n",
       "      <th>statuses</th>\n",
       "      <th>retweets</th>\n",
       "      <th>label</th>\n",
       "    </tr>\n",
       "  </thead>\n",
       "  <tbody>\n",
       "    <tr>\n",
       "      <th>0</th>\n",
       "      <td>0.0</td>\n",
       "      <td>6.378950e+17</td>\n",
       "      <td>Sun Aug 30 07:48:37 +0000 2015</td>\n",
       "      <td>It's just over 2 years since I was diagnosed w...</td>\n",
       "      <td>1.013187e+09</td>\n",
       "      <td>84.0</td>\n",
       "      <td>211.0</td>\n",
       "      <td>251.0</td>\n",
       "      <td>837.0</td>\n",
       "      <td>0.0</td>\n",
       "      <td>1</td>\n",
       "    </tr>\n",
       "    <tr>\n",
       "      <th>1</th>\n",
       "      <td>1.0</td>\n",
       "      <td>6.378900e+17</td>\n",
       "      <td>Sun Aug 30 07:31:33 +0000 2015</td>\n",
       "      <td>It's Sunday, I need a break, so I'm planning t...</td>\n",
       "      <td>1.013187e+09</td>\n",
       "      <td>84.0</td>\n",
       "      <td>211.0</td>\n",
       "      <td>251.0</td>\n",
       "      <td>837.0</td>\n",
       "      <td>1.0</td>\n",
       "      <td>1</td>\n",
       "    </tr>\n",
       "    <tr>\n",
       "      <th>2</th>\n",
       "      <td>2.0</td>\n",
       "      <td>6.377490e+17</td>\n",
       "      <td>Sat Aug 29 22:11:07 +0000 2015</td>\n",
       "      <td>Awake but tired. I need to sleep but my brain ...</td>\n",
       "      <td>1.013187e+09</td>\n",
       "      <td>84.0</td>\n",
       "      <td>211.0</td>\n",
       "      <td>251.0</td>\n",
       "      <td>837.0</td>\n",
       "      <td>0.0</td>\n",
       "      <td>1</td>\n",
       "    </tr>\n",
       "    <tr>\n",
       "      <th>3</th>\n",
       "      <td>3.0</td>\n",
       "      <td>6.376960e+17</td>\n",
       "      <td>Sat Aug 29 18:40:49 +0000 2015</td>\n",
       "      <td>RT @SewHQ: #Retro bears make perfect gifts and...</td>\n",
       "      <td>1.013187e+09</td>\n",
       "      <td>84.0</td>\n",
       "      <td>211.0</td>\n",
       "      <td>251.0</td>\n",
       "      <td>837.0</td>\n",
       "      <td>2.0</td>\n",
       "      <td>1</td>\n",
       "    </tr>\n",
       "    <tr>\n",
       "      <th>4</th>\n",
       "      <td>4.0</td>\n",
       "      <td>6.376960e+17</td>\n",
       "      <td>Sat Aug 29 18:40:26 +0000 2015</td>\n",
       "      <td>It’s hard to say whether packing lists are mak...</td>\n",
       "      <td>1.013187e+09</td>\n",
       "      <td>84.0</td>\n",
       "      <td>211.0</td>\n",
       "      <td>251.0</td>\n",
       "      <td>837.0</td>\n",
       "      <td>1.0</td>\n",
       "      <td>1</td>\n",
       "    </tr>\n",
       "    <tr>\n",
       "      <th>...</th>\n",
       "      <td>...</td>\n",
       "      <td>...</td>\n",
       "      <td>...</td>\n",
       "      <td>...</td>\n",
       "      <td>...</td>\n",
       "      <td>...</td>\n",
       "      <td>...</td>\n",
       "      <td>...</td>\n",
       "      <td>...</td>\n",
       "      <td>...</td>\n",
       "      <td>...</td>\n",
       "    </tr>\n",
       "    <tr>\n",
       "      <th>20002</th>\n",
       "      <td>NaN</td>\n",
       "      <td>NaN</td>\n",
       "      <td>NaN</td>\n",
       "      <td>I am so sad and not happy</td>\n",
       "      <td>NaN</td>\n",
       "      <td>NaN</td>\n",
       "      <td>NaN</td>\n",
       "      <td>NaN</td>\n",
       "      <td>NaN</td>\n",
       "      <td>NaN</td>\n",
       "      <td>1</td>\n",
       "    </tr>\n",
       "    <tr>\n",
       "      <th>20003</th>\n",
       "      <td>NaN</td>\n",
       "      <td>NaN</td>\n",
       "      <td>NaN</td>\n",
       "      <td>I am disapointed</td>\n",
       "      <td>NaN</td>\n",
       "      <td>NaN</td>\n",
       "      <td>NaN</td>\n",
       "      <td>NaN</td>\n",
       "      <td>NaN</td>\n",
       "      <td>NaN</td>\n",
       "      <td>1</td>\n",
       "    </tr>\n",
       "    <tr>\n",
       "      <th>20004</th>\n",
       "      <td>NaN</td>\n",
       "      <td>NaN</td>\n",
       "      <td>NaN</td>\n",
       "      <td>the product is horrible</td>\n",
       "      <td>NaN</td>\n",
       "      <td>NaN</td>\n",
       "      <td>NaN</td>\n",
       "      <td>NaN</td>\n",
       "      <td>NaN</td>\n",
       "      <td>NaN</td>\n",
       "      <td>1</td>\n",
       "    </tr>\n",
       "    <tr>\n",
       "      <th>20005</th>\n",
       "      <td>NaN</td>\n",
       "      <td>NaN</td>\n",
       "      <td>NaN</td>\n",
       "      <td>I don't feel so good</td>\n",
       "      <td>NaN</td>\n",
       "      <td>NaN</td>\n",
       "      <td>NaN</td>\n",
       "      <td>NaN</td>\n",
       "      <td>NaN</td>\n",
       "      <td>NaN</td>\n",
       "      <td>1</td>\n",
       "    </tr>\n",
       "    <tr>\n",
       "      <th>20006</th>\n",
       "      <td>NaN</td>\n",
       "      <td>NaN</td>\n",
       "      <td>NaN</td>\n",
       "      <td>I am happy</td>\n",
       "      <td>NaN</td>\n",
       "      <td>NaN</td>\n",
       "      <td>NaN</td>\n",
       "      <td>NaN</td>\n",
       "      <td>NaN</td>\n",
       "      <td>NaN</td>\n",
       "      <td>0</td>\n",
       "    </tr>\n",
       "  </tbody>\n",
       "</table>\n",
       "<p>20007 rows × 11 columns</p>\n",
       "</div>"
      ],
      "text/plain": [
       "       Unnamed: 0       post_id                    post_created  \\\n",
       "0             0.0  6.378950e+17  Sun Aug 30 07:48:37 +0000 2015   \n",
       "1             1.0  6.378900e+17  Sun Aug 30 07:31:33 +0000 2015   \n",
       "2             2.0  6.377490e+17  Sat Aug 29 22:11:07 +0000 2015   \n",
       "3             3.0  6.376960e+17  Sat Aug 29 18:40:49 +0000 2015   \n",
       "4             4.0  6.376960e+17  Sat Aug 29 18:40:26 +0000 2015   \n",
       "...           ...           ...                             ...   \n",
       "20002         NaN           NaN                             NaN   \n",
       "20003         NaN           NaN                             NaN   \n",
       "20004         NaN           NaN                             NaN   \n",
       "20005         NaN           NaN                             NaN   \n",
       "20006         NaN           NaN                             NaN   \n",
       "\n",
       "                                               post_text       user_id  \\\n",
       "0      It's just over 2 years since I was diagnosed w...  1.013187e+09   \n",
       "1      It's Sunday, I need a break, so I'm planning t...  1.013187e+09   \n",
       "2      Awake but tired. I need to sleep but my brain ...  1.013187e+09   \n",
       "3      RT @SewHQ: #Retro bears make perfect gifts and...  1.013187e+09   \n",
       "4      It’s hard to say whether packing lists are mak...  1.013187e+09   \n",
       "...                                                  ...           ...   \n",
       "20002                          I am so sad and not happy           NaN   \n",
       "20003                                   I am disapointed           NaN   \n",
       "20004                            the product is horrible           NaN   \n",
       "20005                               I don't feel so good           NaN   \n",
       "20006                                         I am happy           NaN   \n",
       "\n",
       "       followers  friends  favourites  statuses  retweets  label  \n",
       "0           84.0    211.0       251.0     837.0       0.0      1  \n",
       "1           84.0    211.0       251.0     837.0       1.0      1  \n",
       "2           84.0    211.0       251.0     837.0       0.0      1  \n",
       "3           84.0    211.0       251.0     837.0       2.0      1  \n",
       "4           84.0    211.0       251.0     837.0       1.0      1  \n",
       "...          ...      ...         ...       ...       ...    ...  \n",
       "20002        NaN      NaN         NaN       NaN       NaN      1  \n",
       "20003        NaN      NaN         NaN       NaN       NaN      1  \n",
       "20004        NaN      NaN         NaN       NaN       NaN      1  \n",
       "20005        NaN      NaN         NaN       NaN       NaN      1  \n",
       "20006        NaN      NaN         NaN       NaN       NaN      0  \n",
       "\n",
       "[20007 rows x 11 columns]"
      ]
     },
     "execution_count": 8,
     "metadata": {},
     "output_type": "execute_result"
    }
   ],
   "source": [
    "data_v1 = pd.read_csv('E:/Data/Gradution project/Term1 final Gradution project/Memtal health data/Raw data in the model/Mental-Health-Twitter.csv')\n",
    "data_v1"
   ]
  },
  {
   "attachments": {},
   "cell_type": "markdown",
   "metadata": {},
   "source": [
    "Here we apply the two preprocessing functions to clean the tweets."
   ]
  },
  {
   "cell_type": "code",
   "execution_count": 9,
   "metadata": {},
   "outputs": [
    {
     "name": "stderr",
     "output_type": "stream",
     "text": [
      "100%|██████████| 20007/20007 [00:21<00:00, 911.40it/s] \n"
     ]
    }
   ],
   "source": [
    "cleaned_tweets = []\n",
    "for i in tqdm(range(len(data_v1['post_text']))):\n",
    "    tweet = data_v1['post_text'][i] #loop on every tweet\n",
    "    clean_text = p.clean(tweet) #Use tweet-preprocessor module\n",
    "    filtered_tweet = clean_tweets(clean_text) #Use clean_tweets function\n",
    "    cleaned_tweets.append(filtered_tweet)"
   ]
  },
  {
   "cell_type": "code",
   "execution_count": 10,
   "metadata": {},
   "outputs": [
    {
     "name": "stderr",
     "output_type": "stream",
     "text": [
      "C:\\Users\\ZIAD\\AppData\\Local\\Temp\\ipykernel_8636\\153024422.py:3: SettingWithCopyWarning: \n",
      "A value is trying to be set on a copy of a slice from a DataFrame\n",
      "\n",
      "See the caveats in the documentation: https://pandas.pydata.org/pandas-docs/stable/user_guide/indexing.html#returning-a-view-versus-a-copy\n",
      "  data_v1.rename(columns = {'cleaned_text':'filtered_tweet','label':'is_depression'}, inplace = True ) #Rename the columns for clarification\n"
     ]
    },
    {
     "data": {
      "text/html": [
       "<div>\n",
       "<style scoped>\n",
       "    .dataframe tbody tr th:only-of-type {\n",
       "        vertical-align: middle;\n",
       "    }\n",
       "\n",
       "    .dataframe tbody tr th {\n",
       "        vertical-align: top;\n",
       "    }\n",
       "\n",
       "    .dataframe thead th {\n",
       "        text-align: right;\n",
       "    }\n",
       "</style>\n",
       "<table border=\"1\" class=\"dataframe\">\n",
       "  <thead>\n",
       "    <tr style=\"text-align: right;\">\n",
       "      <th></th>\n",
       "      <th>filtered_tweet</th>\n",
       "      <th>is_depression</th>\n",
       "    </tr>\n",
       "  </thead>\n",
       "  <tbody>\n",
       "    <tr>\n",
       "      <th>0</th>\n",
       "      <td>year since diagnosed today taking moment refle...</td>\n",
       "      <td>1</td>\n",
       "    </tr>\n",
       "    <tr>\n",
       "      <th>1</th>\n",
       "      <td>sunday need break planning spend little time p...</td>\n",
       "      <td>1</td>\n",
       "    </tr>\n",
       "    <tr>\n",
       "      <th>2</th>\n",
       "      <td>awake tired need sleep brain idea</td>\n",
       "      <td>1</td>\n",
       "    </tr>\n",
       "    <tr>\n",
       "      <th>3</th>\n",
       "      <td>bear make perfect gift great beginner get stit...</td>\n",
       "      <td>1</td>\n",
       "    </tr>\n",
       "    <tr>\n",
       "      <th>4</th>\n",
       "      <td>hard say whether packing list making life easi...</td>\n",
       "      <td>1</td>\n",
       "    </tr>\n",
       "    <tr>\n",
       "      <th>...</th>\n",
       "      <td>...</td>\n",
       "      <td>...</td>\n",
       "    </tr>\n",
       "    <tr>\n",
       "      <th>20002</th>\n",
       "      <td>sad happy</td>\n",
       "      <td>1</td>\n",
       "    </tr>\n",
       "    <tr>\n",
       "      <th>20003</th>\n",
       "      <td>disapointed</td>\n",
       "      <td>1</td>\n",
       "    </tr>\n",
       "    <tr>\n",
       "      <th>20004</th>\n",
       "      <td>product horrible</td>\n",
       "      <td>1</td>\n",
       "    </tr>\n",
       "    <tr>\n",
       "      <th>20005</th>\n",
       "      <td>feel good</td>\n",
       "      <td>1</td>\n",
       "    </tr>\n",
       "    <tr>\n",
       "      <th>20006</th>\n",
       "      <td>happy</td>\n",
       "      <td>0</td>\n",
       "    </tr>\n",
       "  </tbody>\n",
       "</table>\n",
       "<p>20007 rows × 2 columns</p>\n",
       "</div>"
      ],
      "text/plain": [
       "                                          filtered_tweet  is_depression\n",
       "0      year since diagnosed today taking moment refle...              1\n",
       "1      sunday need break planning spend little time p...              1\n",
       "2                      awake tired need sleep brain idea              1\n",
       "3      bear make perfect gift great beginner get stit...              1\n",
       "4      hard say whether packing list making life easi...              1\n",
       "...                                                  ...            ...\n",
       "20002                                          sad happy              1\n",
       "20003                                        disapointed              1\n",
       "20004                                   product horrible              1\n",
       "20005                                          feel good              1\n",
       "20006                                              happy              0\n",
       "\n",
       "[20007 rows x 2 columns]"
      ]
     },
     "execution_count": 10,
     "metadata": {},
     "output_type": "execute_result"
    }
   ],
   "source": [
    "data_v1['cleaned_text'] = cleaned_tweets\n",
    "data_v1 = data_v1[['cleaned_text','label']] #Select the columns we interested in for classification\n",
    "data_v1.rename(columns = {'cleaned_text':'filtered_tweet','label':'is_depression'}, inplace = True ) #Rename the columns for clarification\n",
    "data_v1"
   ]
  },
  {
   "cell_type": "code",
   "execution_count": 11,
   "metadata": {},
   "outputs": [],
   "source": [
    "# data_v1.to_csv('E:/Data/Gradution project/Term1 final Gradution project/Memtal health data/Raw data in the model/data_v1.csv')"
   ]
  },
  {
   "attachments": {},
   "cell_type": "markdown",
   "metadata": {},
   "source": [
    "### Version 2 of the data"
   ]
  },
  {
   "attachments": {},
   "cell_type": "markdown",
   "metadata": {},
   "source": [
    "We collected more data for serving the models and increasing the performance. In the second cycle, we gathered data that have 47185 rows and then trained the second version of the models using it and the first version of data."
   ]
  },
  {
   "cell_type": "code",
   "execution_count": 12,
   "metadata": {},
   "outputs": [
    {
     "name": "stderr",
     "output_type": "stream",
     "text": [
      "100%|██████████| 47185/47185 [00:59<00:00, 791.15it/s] \n"
     ]
    },
    {
     "data": {
      "text/html": [
       "<div>\n",
       "<style scoped>\n",
       "    .dataframe tbody tr th:only-of-type {\n",
       "        vertical-align: middle;\n",
       "    }\n",
       "\n",
       "    .dataframe tbody tr th {\n",
       "        vertical-align: top;\n",
       "    }\n",
       "\n",
       "    .dataframe thead th {\n",
       "        text-align: right;\n",
       "    }\n",
       "</style>\n",
       "<table border=\"1\" class=\"dataframe\">\n",
       "  <thead>\n",
       "    <tr style=\"text-align: right;\">\n",
       "      <th></th>\n",
       "      <th>is_depression</th>\n",
       "      <th>filtered_tweet</th>\n",
       "    </tr>\n",
       "  </thead>\n",
       "  <tbody>\n",
       "    <tr>\n",
       "      <th>0</th>\n",
       "      <td>1</td>\n",
       "      <td>recently went breakup said still want friend s...</td>\n",
       "    </tr>\n",
       "    <tr>\n",
       "      <th>1</th>\n",
       "      <td>0</td>\n",
       "      <td>know navigate feeling new feeling stretch unde...</td>\n",
       "    </tr>\n",
       "    <tr>\n",
       "      <th>2</th>\n",
       "      <td>0</td>\n",
       "      <td>month already told depressed week hing particu...</td>\n",
       "    </tr>\n",
       "    <tr>\n",
       "      <th>3</th>\n",
       "      <td>1</td>\n",
       "      <td>exhausted think finally rest think maybe thing...</td>\n",
       "    </tr>\n",
       "    <tr>\n",
       "      <th>4</th>\n",
       "      <td>1</td>\n",
       "      <td>severly bullied since till resulted depressed ...</td>\n",
       "    </tr>\n",
       "    <tr>\n",
       "      <th>...</th>\n",
       "      <td>...</td>\n",
       "      <td>...</td>\n",
       "    </tr>\n",
       "    <tr>\n",
       "      <th>47180</th>\n",
       "      <td>0</td>\n",
       "      <td>health wealth planning health conscious people</td>\n",
       "    </tr>\n",
       "    <tr>\n",
       "      <th>47181</th>\n",
       "      <td>1</td>\n",
       "      <td>gatwick noise sewer full flow plan add two run...</td>\n",
       "    </tr>\n",
       "    <tr>\n",
       "      <th>47182</th>\n",
       "      <td>0</td>\n",
       "      <td>instead money bank amp cloud tree based agricu...</td>\n",
       "    </tr>\n",
       "    <tr>\n",
       "      <th>47183</th>\n",
       "      <td>0</td>\n",
       "      <td>happy birthday bos money account year surface ...</td>\n",
       "    </tr>\n",
       "    <tr>\n",
       "      <th>47184</th>\n",
       "      <td>0</td>\n",
       "      <td>zero interest nonsense represent exact tyranny...</td>\n",
       "    </tr>\n",
       "  </tbody>\n",
       "</table>\n",
       "<p>47185 rows × 2 columns</p>\n",
       "</div>"
      ],
      "text/plain": [
       "       is_depression                                     filtered_tweet\n",
       "0                  1  recently went breakup said still want friend s...\n",
       "1                  0  know navigate feeling new feeling stretch unde...\n",
       "2                  0  month already told depressed week hing particu...\n",
       "3                  1  exhausted think finally rest think maybe thing...\n",
       "4                  1  severly bullied since till resulted depressed ...\n",
       "...              ...                                                ...\n",
       "47180              0     health wealth planning health conscious people\n",
       "47181              1  gatwick noise sewer full flow plan add two run...\n",
       "47182              0  instead money bank amp cloud tree based agricu...\n",
       "47183              0  happy birthday bos money account year surface ...\n",
       "47184              0  zero interest nonsense represent exact tyranny...\n",
       "\n",
       "[47185 rows x 2 columns]"
      ]
     },
     "execution_count": 12,
     "metadata": {},
     "output_type": "execute_result"
    }
   ],
   "source": [
    "data_v2 = pd.read_csv('E:/Data/Gradution project/Term1 final Gradution project/Memtal health data/Raw data in the model/Data_07092022_v1.csv')\n",
    "cleaned_tweets = []\n",
    "for i in tqdm(range(len(data_v2['filtered_tweet']))):\n",
    "    tweet = data_v2['filtered_tweet'][i]\n",
    "    clean_text = p.clean(tweet)\n",
    "    filtered_tweet = clean_tweets(clean_text)\n",
    "    cleaned_tweets.append(filtered_tweet)\n",
    "    \n",
    "data_v2['filtered_tweet'] = cleaned_tweets\n",
    "data_v2"
   ]
  },
  {
   "attachments": {},
   "cell_type": "markdown",
   "metadata": {},
   "source": [
    "### Version 3 of the data"
   ]
  },
  {
   "attachments": {},
   "cell_type": "markdown",
   "metadata": {},
   "source": [
    "Repeated the data collection process to get higher performance for our models. In the last cycle, we gathered data that have 232074 rows and then trained the last version of the models using it and the other versions of data."
   ]
  },
  {
   "cell_type": "code",
   "execution_count": 16,
   "metadata": {},
   "outputs": [
    {
     "name": "stderr",
     "output_type": "stream",
     "text": [
      "C:\\Users\\ZIAD\\AppData\\Local\\Temp\\ipykernel_8636\\546056618.py:1: DtypeWarning: Columns (0,3,4,5,6,7,8,9,10,11,12,13,14,15,16,17,18,19,20,21,22,23,24,25,26,27,28,29,30,31,32,33,34,35,36,37,38,39,40,41,42,43,44,45,46,47,48,49,50,51,52,53,54,55,56,57,58,59,60,61,62,63,64,65,66,67,68,69,70,71,72,73,74,75,76,77,78,79,80,81,82,83,84,85,86) have mixed types. Specify dtype option on import or set low_memory=False.\n",
      "  data_v3 = pd.read_csv('E:/Data/Gradution project/Term1 final Gradution project/Memtal health data/Raw data in the model/Suicide_Detection.csv', encoding = \"ISO-8859-1\")\n",
      "C:\\Users\\ZIAD\\AppData\\Local\\Temp\\ipykernel_8636\\546056618.py:3: SettingWithCopyWarning: \n",
      "A value is trying to be set on a copy of a slice from a DataFrame\n",
      "\n",
      "See the caveats in the documentation: https://pandas.pydata.org/pandas-docs/stable/user_guide/indexing.html#returning-a-view-versus-a-copy\n",
      "  data_v3.rename(columns = {'text':'filtered_tweet','class':'is_depression'},inplace = True )\n"
     ]
    },
    {
     "data": {
      "text/html": [
       "<div>\n",
       "<style scoped>\n",
       "    .dataframe tbody tr th:only-of-type {\n",
       "        vertical-align: middle;\n",
       "    }\n",
       "\n",
       "    .dataframe tbody tr th {\n",
       "        vertical-align: top;\n",
       "    }\n",
       "\n",
       "    .dataframe thead th {\n",
       "        text-align: right;\n",
       "    }\n",
       "</style>\n",
       "<table border=\"1\" class=\"dataframe\">\n",
       "  <thead>\n",
       "    <tr style=\"text-align: right;\">\n",
       "      <th></th>\n",
       "      <th>filtered_tweet</th>\n",
       "      <th>is_depression</th>\n",
       "    </tr>\n",
       "  </thead>\n",
       "  <tbody>\n",
       "    <tr>\n",
       "      <th>0</th>\n",
       "      <td>Ex Wife Threatening SuicideRecently I left my ...</td>\n",
       "      <td>1</td>\n",
       "    </tr>\n",
       "    <tr>\n",
       "      <th>1</th>\n",
       "      <td>Am I weird I don't get affected by compliments...</td>\n",
       "      <td>0</td>\n",
       "    </tr>\n",
       "    <tr>\n",
       "      <th>2</th>\n",
       "      <td>Finally 2020 is almost over... So I can never ...</td>\n",
       "      <td>0</td>\n",
       "    </tr>\n",
       "    <tr>\n",
       "      <th>3</th>\n",
       "      <td>i need helpjust help me im crying so hard</td>\n",
       "      <td>1</td>\n",
       "    </tr>\n",
       "    <tr>\n",
       "      <th>4</th>\n",
       "      <td>Iâm so lostHello, my name is Adam (16) and I...</td>\n",
       "      <td>1</td>\n",
       "    </tr>\n",
       "  </tbody>\n",
       "</table>\n",
       "</div>"
      ],
      "text/plain": [
       "                                      filtered_tweet is_depression\n",
       "0  Ex Wife Threatening SuicideRecently I left my ...             1\n",
       "1  Am I weird I don't get affected by compliments...             0\n",
       "2  Finally 2020 is almost over... So I can never ...             0\n",
       "3          i need helpjust help me im crying so hard             1\n",
       "4  Iâm so lostHello, my name is Adam (16) and I...             1"
      ]
     },
     "execution_count": 16,
     "metadata": {},
     "output_type": "execute_result"
    }
   ],
   "source": [
    "data_v3 = pd.read_csv('E:/Data/Gradution project/Term1 final Gradution project/Memtal health data/Raw data in the model/Suicide_Detection.csv', encoding = \"ISO-8859-1\")\n",
    "data_v3 = data_v3[['text','class']]\n",
    "data_v3.rename(columns = {'text':'filtered_tweet','class':'is_depression'},inplace = True )\n",
    "data_v3['is_depression'].replace({\"suicide\":1,\"non-suicide\":0},inplace = True )\n",
    "data_v3.head()"
   ]
  },
  {
   "cell_type": "code",
   "execution_count": 17,
   "metadata": {},
   "outputs": [],
   "source": [
    "#Check the number of rows for each class\n",
    "data_v3 = data_v3[(data_v3['is_depression'] == 1) | (data_v3['is_depression'] == 0)]"
   ]
  },
  {
   "cell_type": "code",
   "execution_count": 18,
   "metadata": {},
   "outputs": [],
   "source": [
    "data_v3.reset_index(inplace = True)"
   ]
  },
  {
   "cell_type": "code",
   "execution_count": 20,
   "metadata": {},
   "outputs": [
    {
     "name": "stdout",
     "output_type": "stream",
     "text": [
      "<class 'pandas.core.frame.DataFrame'>\n",
      "RangeIndex: 232045 entries, 0 to 232044\n",
      "Data columns (total 3 columns):\n",
      " #   Column          Non-Null Count   Dtype \n",
      "---  ------          --------------   ----- \n",
      " 0   index           232045 non-null  int64 \n",
      " 1   filtered_tweet  232045 non-null  object\n",
      " 2   is_depression   232045 non-null  object\n",
      "dtypes: int64(1), object(2)\n",
      "memory usage: 5.3+ MB\n"
     ]
    }
   ],
   "source": [
    "data_v3.info()"
   ]
  },
  {
   "cell_type": "code",
   "execution_count": 22,
   "metadata": {},
   "outputs": [
    {
     "data": {
      "text/plain": [
       "1    116033\n",
       "0    116012\n",
       "Name: is_depression, dtype: int64"
      ]
     },
     "execution_count": 22,
     "metadata": {},
     "output_type": "execute_result"
    }
   ],
   "source": [
    "#Check the number of rows for each class\n",
    "data_v3['is_depression'].value_counts()"
   ]
  },
  {
   "cell_type": "code",
   "execution_count": 23,
   "metadata": {},
   "outputs": [
    {
     "name": "stderr",
     "output_type": "stream",
     "text": [
      "100%|██████████| 232045/232045 [07:10<00:00, 538.44it/s]\n"
     ]
    },
    {
     "data": {
      "text/html": [
       "<div>\n",
       "<style scoped>\n",
       "    .dataframe tbody tr th:only-of-type {\n",
       "        vertical-align: middle;\n",
       "    }\n",
       "\n",
       "    .dataframe tbody tr th {\n",
       "        vertical-align: top;\n",
       "    }\n",
       "\n",
       "    .dataframe thead th {\n",
       "        text-align: right;\n",
       "    }\n",
       "</style>\n",
       "<table border=\"1\" class=\"dataframe\">\n",
       "  <thead>\n",
       "    <tr style=\"text-align: right;\">\n",
       "      <th></th>\n",
       "      <th>index</th>\n",
       "      <th>filtered_tweet</th>\n",
       "      <th>is_depression</th>\n",
       "    </tr>\n",
       "  </thead>\n",
       "  <tbody>\n",
       "    <tr>\n",
       "      <th>0</th>\n",
       "      <td>0</td>\n",
       "      <td>ex wife threatening suiciderecently left wife ...</td>\n",
       "      <td>1</td>\n",
       "    </tr>\n",
       "    <tr>\n",
       "      <th>1</th>\n",
       "      <td>1</td>\n",
       "      <td>weird get affected compliment coming someone k...</td>\n",
       "      <td>0</td>\n",
       "    </tr>\n",
       "    <tr>\n",
       "      <th>2</th>\n",
       "      <td>2</td>\n",
       "      <td>finally almost never hear bad year ever swear ...</td>\n",
       "      <td>0</td>\n",
       "    </tr>\n",
       "    <tr>\n",
       "      <th>3</th>\n",
       "      <td>3</td>\n",
       "      <td>need helpjust help cry hard</td>\n",
       "      <td>1</td>\n",
       "    </tr>\n",
       "    <tr>\n",
       "      <th>4</th>\n",
       "      <td>4</td>\n",
       "      <td>losthello name adam ive struggling year afraid...</td>\n",
       "      <td>1</td>\n",
       "    </tr>\n",
       "    <tr>\n",
       "      <th>...</th>\n",
       "      <td>...</td>\n",
       "      <td>...</td>\n",
       "      <td>...</td>\n",
       "    </tr>\n",
       "    <tr>\n",
       "      <th>232040</th>\n",
       "      <td>233398</td>\n",
       "      <td>like rock going get anything go</td>\n",
       "      <td>0</td>\n",
       "    </tr>\n",
       "    <tr>\n",
       "      <th>232041</th>\n",
       "      <td>233399</td>\n",
       "      <td>tell many friend lonely everything deprived pr...</td>\n",
       "      <td>0</td>\n",
       "    </tr>\n",
       "    <tr>\n",
       "      <th>232042</th>\n",
       "      <td>233400</td>\n",
       "      <td>pee probably taste like salty tea someone dran...</td>\n",
       "      <td>0</td>\n",
       "    </tr>\n",
       "    <tr>\n",
       "      <th>232043</th>\n",
       "      <td>233401</td>\n",
       "      <td>usual stuff find hereim posting sympathy pity ...</td>\n",
       "      <td>1</td>\n",
       "    </tr>\n",
       "    <tr>\n",
       "      <th>232044</th>\n",
       "      <td>233402</td>\n",
       "      <td>still havent beaten first bos hollow knight iv...</td>\n",
       "      <td>0</td>\n",
       "    </tr>\n",
       "  </tbody>\n",
       "</table>\n",
       "<p>232045 rows × 3 columns</p>\n",
       "</div>"
      ],
      "text/plain": [
       "         index                                     filtered_tweet  \\\n",
       "0            0  ex wife threatening suiciderecently left wife ...   \n",
       "1            1  weird get affected compliment coming someone k...   \n",
       "2            2  finally almost never hear bad year ever swear ...   \n",
       "3            3                        need helpjust help cry hard   \n",
       "4            4  losthello name adam ive struggling year afraid...   \n",
       "...        ...                                                ...   \n",
       "232040  233398                    like rock going get anything go   \n",
       "232041  233399  tell many friend lonely everything deprived pr...   \n",
       "232042  233400  pee probably taste like salty tea someone dran...   \n",
       "232043  233401  usual stuff find hereim posting sympathy pity ...   \n",
       "232044  233402  still havent beaten first bos hollow knight iv...   \n",
       "\n",
       "       is_depression  \n",
       "0                  1  \n",
       "1                  0  \n",
       "2                  0  \n",
       "3                  1  \n",
       "4                  1  \n",
       "...              ...  \n",
       "232040             0  \n",
       "232041             0  \n",
       "232042             0  \n",
       "232043             1  \n",
       "232044             0  \n",
       "\n",
       "[232045 rows x 3 columns]"
      ]
     },
     "execution_count": 23,
     "metadata": {},
     "output_type": "execute_result"
    }
   ],
   "source": [
    "cleaned_tweets = []\n",
    "for i in tqdm(range(len(data_v3['filtered_tweet']))):\n",
    "    tweet = data_v3['filtered_tweet'][i]\n",
    "    clean_text = p.clean(tweet)\n",
    "    filtered_tweet = clean_tweets(clean_text)\n",
    "    cleaned_tweets.append(filtered_tweet)\n",
    "    \n",
    "data_v3['filtered_tweet'] = cleaned_tweets\n",
    "data_v3"
   ]
  },
  {
   "cell_type": "code",
   "execution_count": 24,
   "metadata": {},
   "outputs": [
    {
     "data": {
      "text/html": [
       "<div>\n",
       "<style scoped>\n",
       "    .dataframe tbody tr th:only-of-type {\n",
       "        vertical-align: middle;\n",
       "    }\n",
       "\n",
       "    .dataframe tbody tr th {\n",
       "        vertical-align: top;\n",
       "    }\n",
       "\n",
       "    .dataframe thead th {\n",
       "        text-align: right;\n",
       "    }\n",
       "</style>\n",
       "<table border=\"1\" class=\"dataframe\">\n",
       "  <thead>\n",
       "    <tr style=\"text-align: right;\">\n",
       "      <th></th>\n",
       "      <th>filtered_tweet</th>\n",
       "      <th>is_depression</th>\n",
       "    </tr>\n",
       "  </thead>\n",
       "  <tbody>\n",
       "    <tr>\n",
       "      <th>0</th>\n",
       "      <td>ex wife threatening suiciderecently left wife ...</td>\n",
       "      <td>1</td>\n",
       "    </tr>\n",
       "    <tr>\n",
       "      <th>1</th>\n",
       "      <td>weird get affected compliment coming someone k...</td>\n",
       "      <td>0</td>\n",
       "    </tr>\n",
       "    <tr>\n",
       "      <th>2</th>\n",
       "      <td>finally almost never hear bad year ever swear ...</td>\n",
       "      <td>0</td>\n",
       "    </tr>\n",
       "    <tr>\n",
       "      <th>3</th>\n",
       "      <td>need helpjust help cry hard</td>\n",
       "      <td>1</td>\n",
       "    </tr>\n",
       "    <tr>\n",
       "      <th>4</th>\n",
       "      <td>losthello name adam ive struggling year afraid...</td>\n",
       "      <td>1</td>\n",
       "    </tr>\n",
       "    <tr>\n",
       "      <th>...</th>\n",
       "      <td>...</td>\n",
       "      <td>...</td>\n",
       "    </tr>\n",
       "    <tr>\n",
       "      <th>232040</th>\n",
       "      <td>like rock going get anything go</td>\n",
       "      <td>0</td>\n",
       "    </tr>\n",
       "    <tr>\n",
       "      <th>232041</th>\n",
       "      <td>tell many friend lonely everything deprived pr...</td>\n",
       "      <td>0</td>\n",
       "    </tr>\n",
       "    <tr>\n",
       "      <th>232042</th>\n",
       "      <td>pee probably taste like salty tea someone dran...</td>\n",
       "      <td>0</td>\n",
       "    </tr>\n",
       "    <tr>\n",
       "      <th>232043</th>\n",
       "      <td>usual stuff find hereim posting sympathy pity ...</td>\n",
       "      <td>1</td>\n",
       "    </tr>\n",
       "    <tr>\n",
       "      <th>232044</th>\n",
       "      <td>still havent beaten first bos hollow knight iv...</td>\n",
       "      <td>0</td>\n",
       "    </tr>\n",
       "  </tbody>\n",
       "</table>\n",
       "<p>232045 rows × 2 columns</p>\n",
       "</div>"
      ],
      "text/plain": [
       "                                           filtered_tweet is_depression\n",
       "0       ex wife threatening suiciderecently left wife ...             1\n",
       "1       weird get affected compliment coming someone k...             0\n",
       "2       finally almost never hear bad year ever swear ...             0\n",
       "3                             need helpjust help cry hard             1\n",
       "4       losthello name adam ive struggling year afraid...             1\n",
       "...                                                   ...           ...\n",
       "232040                    like rock going get anything go             0\n",
       "232041  tell many friend lonely everything deprived pr...             0\n",
       "232042  pee probably taste like salty tea someone dran...             0\n",
       "232043  usual stuff find hereim posting sympathy pity ...             1\n",
       "232044  still havent beaten first bos hollow knight iv...             0\n",
       "\n",
       "[232045 rows x 2 columns]"
      ]
     },
     "execution_count": 24,
     "metadata": {},
     "output_type": "execute_result"
    }
   ],
   "source": [
    "data_v3 = data_v3[['filtered_tweet','is_depression']]\n",
    "data_v3"
   ]
  },
  {
   "attachments": {},
   "cell_type": "markdown",
   "metadata": {},
   "source": [
    "Integrate the three versions of data for the training"
   ]
  },
  {
   "cell_type": "code",
   "execution_count": 27,
   "metadata": {},
   "outputs": [
    {
     "data": {
      "text/plain": [
       "(299237, 2)"
      ]
     },
     "execution_count": 27,
     "metadata": {},
     "output_type": "execute_result"
    }
   ],
   "source": [
    "final_data = pd.concat([data_v1,data_v2,data_v3])\n",
    "final_data.shape"
   ]
  },
  {
   "cell_type": "code",
   "execution_count": 28,
   "metadata": {},
   "outputs": [
    {
     "data": {
      "text/html": [
       "<div>\n",
       "<style scoped>\n",
       "    .dataframe tbody tr th:only-of-type {\n",
       "        vertical-align: middle;\n",
       "    }\n",
       "\n",
       "    .dataframe tbody tr th {\n",
       "        vertical-align: top;\n",
       "    }\n",
       "\n",
       "    .dataframe thead th {\n",
       "        text-align: right;\n",
       "    }\n",
       "</style>\n",
       "<table border=\"1\" class=\"dataframe\">\n",
       "  <thead>\n",
       "    <tr style=\"text-align: right;\">\n",
       "      <th></th>\n",
       "      <th>filtered_tweet</th>\n",
       "      <th>is_depression</th>\n",
       "    </tr>\n",
       "  </thead>\n",
       "  <tbody>\n",
       "    <tr>\n",
       "      <th>0</th>\n",
       "      <td>year since diagnosed today taking moment refle...</td>\n",
       "      <td>1</td>\n",
       "    </tr>\n",
       "    <tr>\n",
       "      <th>1</th>\n",
       "      <td>sunday need break planning spend little time p...</td>\n",
       "      <td>1</td>\n",
       "    </tr>\n",
       "    <tr>\n",
       "      <th>2</th>\n",
       "      <td>awake tired need sleep brain idea</td>\n",
       "      <td>1</td>\n",
       "    </tr>\n",
       "    <tr>\n",
       "      <th>3</th>\n",
       "      <td>bear make perfect gift great beginner get stit...</td>\n",
       "      <td>1</td>\n",
       "    </tr>\n",
       "    <tr>\n",
       "      <th>4</th>\n",
       "      <td>hard say whether packing list making life easi...</td>\n",
       "      <td>1</td>\n",
       "    </tr>\n",
       "    <tr>\n",
       "      <th>...</th>\n",
       "      <td>...</td>\n",
       "      <td>...</td>\n",
       "    </tr>\n",
       "    <tr>\n",
       "      <th>232040</th>\n",
       "      <td>like rock going get anything go</td>\n",
       "      <td>0</td>\n",
       "    </tr>\n",
       "    <tr>\n",
       "      <th>232041</th>\n",
       "      <td>tell many friend lonely everything deprived pr...</td>\n",
       "      <td>0</td>\n",
       "    </tr>\n",
       "    <tr>\n",
       "      <th>232042</th>\n",
       "      <td>pee probably taste like salty tea someone dran...</td>\n",
       "      <td>0</td>\n",
       "    </tr>\n",
       "    <tr>\n",
       "      <th>232043</th>\n",
       "      <td>usual stuff find hereim posting sympathy pity ...</td>\n",
       "      <td>1</td>\n",
       "    </tr>\n",
       "    <tr>\n",
       "      <th>232044</th>\n",
       "      <td>still havent beaten first bos hollow knight iv...</td>\n",
       "      <td>0</td>\n",
       "    </tr>\n",
       "  </tbody>\n",
       "</table>\n",
       "<p>299237 rows × 2 columns</p>\n",
       "</div>"
      ],
      "text/plain": [
       "                                           filtered_tweet is_depression\n",
       "0       year since diagnosed today taking moment refle...             1\n",
       "1       sunday need break planning spend little time p...             1\n",
       "2                       awake tired need sleep brain idea             1\n",
       "3       bear make perfect gift great beginner get stit...             1\n",
       "4       hard say whether packing list making life easi...             1\n",
       "...                                                   ...           ...\n",
       "232040                    like rock going get anything go             0\n",
       "232041  tell many friend lonely everything deprived pr...             0\n",
       "232042  pee probably taste like salty tea someone dran...             0\n",
       "232043  usual stuff find hereim posting sympathy pity ...             1\n",
       "232044  still havent beaten first bos hollow knight iv...             0\n",
       "\n",
       "[299237 rows x 2 columns]"
      ]
     },
     "execution_count": 28,
     "metadata": {},
     "output_type": "execute_result"
    }
   ],
   "source": [
    "final_data"
   ]
  },
  {
   "cell_type": "code",
   "execution_count": 29,
   "metadata": {},
   "outputs": [
    {
     "data": {
      "text/plain": [
       "(296712, 2)"
      ]
     },
     "execution_count": 29,
     "metadata": {},
     "output_type": "execute_result"
    }
   ],
   "source": [
    "#Check for duplicates before saving\n",
    "final_data.drop_duplicates(inplace= True)\n",
    "final_data.shape"
   ]
  },
  {
   "cell_type": "code",
   "execution_count": 30,
   "metadata": {},
   "outputs": [
    {
     "data": {
      "text/plain": [
       "0    150953\n",
       "1    145759\n",
       "Name: is_depression, dtype: int64"
      ]
     },
     "execution_count": 30,
     "metadata": {},
     "output_type": "execute_result"
    }
   ],
   "source": [
    "#Check the number of rows for each class\n",
    "final_data['is_depression'].value_counts()"
   ]
  },
  {
   "cell_type": "code",
   "execution_count": 31,
   "metadata": {},
   "outputs": [
    {
     "data": {
      "text/html": [
       "<div>\n",
       "<style scoped>\n",
       "    .dataframe tbody tr th:only-of-type {\n",
       "        vertical-align: middle;\n",
       "    }\n",
       "\n",
       "    .dataframe tbody tr th {\n",
       "        vertical-align: top;\n",
       "    }\n",
       "\n",
       "    .dataframe thead th {\n",
       "        text-align: right;\n",
       "    }\n",
       "</style>\n",
       "<table border=\"1\" class=\"dataframe\">\n",
       "  <thead>\n",
       "    <tr style=\"text-align: right;\">\n",
       "      <th></th>\n",
       "      <th>filtered_tweet</th>\n",
       "      <th>is_depression</th>\n",
       "    </tr>\n",
       "  </thead>\n",
       "  <tbody>\n",
       "    <tr>\n",
       "      <th>81</th>\n",
       "      <td></td>\n",
       "      <td>1</td>\n",
       "    </tr>\n",
       "    <tr>\n",
       "      <th>10684</th>\n",
       "      <td></td>\n",
       "      <td>0</td>\n",
       "    </tr>\n",
       "  </tbody>\n",
       "</table>\n",
       "</div>"
      ],
      "text/plain": [
       "      filtered_tweet is_depression\n",
       "81                               1\n",
       "10684                            0"
      ]
     },
     "execution_count": 31,
     "metadata": {},
     "output_type": "execute_result"
    }
   ],
   "source": [
    "final_data[final_data['filtered_tweet']=='']"
   ]
  },
  {
   "cell_type": "code",
   "execution_count": 32,
   "metadata": {},
   "outputs": [
    {
     "data": {
      "text/html": [
       "<div>\n",
       "<style scoped>\n",
       "    .dataframe tbody tr th:only-of-type {\n",
       "        vertical-align: middle;\n",
       "    }\n",
       "\n",
       "    .dataframe tbody tr th {\n",
       "        vertical-align: top;\n",
       "    }\n",
       "\n",
       "    .dataframe thead th {\n",
       "        text-align: right;\n",
       "    }\n",
       "</style>\n",
       "<table border=\"1\" class=\"dataframe\">\n",
       "  <thead>\n",
       "    <tr style=\"text-align: right;\">\n",
       "      <th></th>\n",
       "      <th>filtered_tweet</th>\n",
       "      <th>is_depression</th>\n",
       "    </tr>\n",
       "  </thead>\n",
       "  <tbody>\n",
       "  </tbody>\n",
       "</table>\n",
       "</div>"
      ],
      "text/plain": [
       "Empty DataFrame\n",
       "Columns: [filtered_tweet, is_depression]\n",
       "Index: []"
      ]
     },
     "execution_count": 32,
     "metadata": {},
     "output_type": "execute_result"
    }
   ],
   "source": [
    "#Check for empty tweets\n",
    "final_data = final_data[final_data['filtered_tweet']!='']\n",
    "final_data[final_data['filtered_tweet']=='']"
   ]
  },
  {
   "cell_type": "code",
   "execution_count": 33,
   "metadata": {},
   "outputs": [],
   "source": [
    "# #Save the final data\n",
    "# final_data.to_csv('C:/Users/ZIAD/Desktop/Gradution/final_data.csv')"
   ]
  },
  {
   "attachments": {},
   "cell_type": "markdown",
   "metadata": {},
   "source": [
    "## Version 4"
   ]
  },
  {
   "cell_type": "code",
   "execution_count": 34,
   "metadata": {},
   "outputs": [
    {
     "data": {
      "text/html": [
       "<div>\n",
       "<style scoped>\n",
       "    .dataframe tbody tr th:only-of-type {\n",
       "        vertical-align: middle;\n",
       "    }\n",
       "\n",
       "    .dataframe tbody tr th {\n",
       "        vertical-align: top;\n",
       "    }\n",
       "\n",
       "    .dataframe thead th {\n",
       "        text-align: right;\n",
       "    }\n",
       "</style>\n",
       "<table border=\"1\" class=\"dataframe\">\n",
       "  <thead>\n",
       "    <tr style=\"text-align: right;\">\n",
       "      <th></th>\n",
       "      <th>filtered_tweet</th>\n",
       "      <th>is_depression</th>\n",
       "    </tr>\n",
       "  </thead>\n",
       "  <tbody>\n",
       "    <tr>\n",
       "      <th>0</th>\n",
       "      <td>dear american teens question dutch person hear...</td>\n",
       "      <td>0</td>\n",
       "    </tr>\n",
       "    <tr>\n",
       "      <th>1</th>\n",
       "      <td>nothing look forward lifei dont many reasons k...</td>\n",
       "      <td>1</td>\n",
       "    </tr>\n",
       "    <tr>\n",
       "      <th>2</th>\n",
       "      <td>music recommendations im looking expand playli...</td>\n",
       "      <td>0</td>\n",
       "    </tr>\n",
       "    <tr>\n",
       "      <th>3</th>\n",
       "      <td>im done trying feel betterthe reason im still ...</td>\n",
       "      <td>1</td>\n",
       "    </tr>\n",
       "    <tr>\n",
       "      <th>4</th>\n",
       "      <td>worried  year old girl subject domestic physic...</td>\n",
       "      <td>1</td>\n",
       "    </tr>\n",
       "  </tbody>\n",
       "</table>\n",
       "</div>"
      ],
      "text/plain": [
       "                                      filtered_tweet  is_depression\n",
       "0  dear american teens question dutch person hear...              0\n",
       "1  nothing look forward lifei dont many reasons k...              1\n",
       "2  music recommendations im looking expand playli...              0\n",
       "3  im done trying feel betterthe reason im still ...              1\n",
       "4  worried  year old girl subject domestic physic...              1"
      ]
     },
     "execution_count": 34,
     "metadata": {},
     "output_type": "execute_result"
    }
   ],
   "source": [
    "data_v4 = pd.read_csv('E:/Data/Gradution project/Term1 final Gradution project/Memtal health data/Raw data in the model/Mental_Health_Corpus.csv')\n",
    "data_v4.rename(columns = {'text':'filtered_tweet','label':'is_depression'},inplace = True )\n",
    "data_v4.head()"
   ]
  },
  {
   "cell_type": "code",
   "execution_count": 35,
   "metadata": {},
   "outputs": [
    {
     "name": "stderr",
     "output_type": "stream",
     "text": [
      "100%|██████████| 27977/27977 [00:46<00:00, 600.32it/s]\n"
     ]
    },
    {
     "data": {
      "text/html": [
       "<div>\n",
       "<style scoped>\n",
       "    .dataframe tbody tr th:only-of-type {\n",
       "        vertical-align: middle;\n",
       "    }\n",
       "\n",
       "    .dataframe tbody tr th {\n",
       "        vertical-align: top;\n",
       "    }\n",
       "\n",
       "    .dataframe thead th {\n",
       "        text-align: right;\n",
       "    }\n",
       "</style>\n",
       "<table border=\"1\" class=\"dataframe\">\n",
       "  <thead>\n",
       "    <tr style=\"text-align: right;\">\n",
       "      <th></th>\n",
       "      <th>filtered_tweet</th>\n",
       "      <th>is_depression</th>\n",
       "    </tr>\n",
       "  </thead>\n",
       "  <tbody>\n",
       "    <tr>\n",
       "      <th>0</th>\n",
       "      <td>dear american teen question dutch person heard...</td>\n",
       "      <td>0</td>\n",
       "    </tr>\n",
       "    <tr>\n",
       "      <th>1</th>\n",
       "      <td>nothing look forward lifei many reason keep go...</td>\n",
       "      <td>1</td>\n",
       "    </tr>\n",
       "    <tr>\n",
       "      <th>2</th>\n",
       "      <td>music recommendation looking expand playlist u...</td>\n",
       "      <td>0</td>\n",
       "    </tr>\n",
       "    <tr>\n",
       "      <th>3</th>\n",
       "      <td>done trying feel betterthe reason still alive ...</td>\n",
       "      <td>1</td>\n",
       "    </tr>\n",
       "    <tr>\n",
       "      <th>4</th>\n",
       "      <td>worried year old girl subject domestic physica...</td>\n",
       "      <td>1</td>\n",
       "    </tr>\n",
       "    <tr>\n",
       "      <th>...</th>\n",
       "      <td>...</td>\n",
       "      <td>...</td>\n",
       "    </tr>\n",
       "    <tr>\n",
       "      <th>27972</th>\n",
       "      <td>posting everyday people stop caring religion m...</td>\n",
       "      <td>0</td>\n",
       "    </tr>\n",
       "    <tr>\n",
       "      <th>27973</th>\n",
       "      <td>okay definetly need hear guy opinion ive prett...</td>\n",
       "      <td>0</td>\n",
       "    </tr>\n",
       "    <tr>\n",
       "      <th>27974</th>\n",
       "      <td>cant get dog think ill kill myselfthe last thi...</td>\n",
       "      <td>1</td>\n",
       "    </tr>\n",
       "    <tr>\n",
       "      <th>27975</th>\n",
       "      <td>whats point princess bridei really think like ...</td>\n",
       "      <td>1</td>\n",
       "    </tr>\n",
       "    <tr>\n",
       "      <th>27976</th>\n",
       "      <td>got nude person might might know snapchat ok c...</td>\n",
       "      <td>0</td>\n",
       "    </tr>\n",
       "  </tbody>\n",
       "</table>\n",
       "<p>27977 rows × 2 columns</p>\n",
       "</div>"
      ],
      "text/plain": [
       "                                          filtered_tweet  is_depression\n",
       "0      dear american teen question dutch person heard...              0\n",
       "1      nothing look forward lifei many reason keep go...              1\n",
       "2      music recommendation looking expand playlist u...              0\n",
       "3      done trying feel betterthe reason still alive ...              1\n",
       "4      worried year old girl subject domestic physica...              1\n",
       "...                                                  ...            ...\n",
       "27972  posting everyday people stop caring religion m...              0\n",
       "27973  okay definetly need hear guy opinion ive prett...              0\n",
       "27974  cant get dog think ill kill myselfthe last thi...              1\n",
       "27975  whats point princess bridei really think like ...              1\n",
       "27976  got nude person might might know snapchat ok c...              0\n",
       "\n",
       "[27977 rows x 2 columns]"
      ]
     },
     "execution_count": 35,
     "metadata": {},
     "output_type": "execute_result"
    }
   ],
   "source": [
    "cleaned_tweets = []\n",
    "for i in tqdm(range(len(data_v4['filtered_tweet']))):\n",
    "    tweet = data_v4['filtered_tweet'][i]\n",
    "    clean_text = p.clean(tweet)\n",
    "    filtered_tweet = clean_tweets(clean_text)\n",
    "    cleaned_tweets.append(filtered_tweet)\n",
    "    \n",
    "data_v4['filtered_tweet'] = cleaned_tweets\n",
    "data_v4"
   ]
  },
  {
   "cell_type": "code",
   "execution_count": 37,
   "metadata": {},
   "outputs": [
    {
     "data": {
      "text/plain": [
       "(324687, 2)"
      ]
     },
     "execution_count": 37,
     "metadata": {},
     "output_type": "execute_result"
    }
   ],
   "source": [
    "data_v4_final = pd.concat([final_data,data_v4])\n",
    "data_v4_final.shape"
   ]
  },
  {
   "cell_type": "code",
   "execution_count": 38,
   "metadata": {},
   "outputs": [
    {
     "data": {
      "text/plain": [
       "(311732, 2)"
      ]
     },
     "execution_count": 38,
     "metadata": {},
     "output_type": "execute_result"
    }
   ],
   "source": [
    "#Check for duplicates before saving\n",
    "data_v4_final.drop_duplicates(inplace= True)\n",
    "data_v4_final.shape"
   ]
  },
  {
   "cell_type": "code",
   "execution_count": 39,
   "metadata": {},
   "outputs": [],
   "source": [
    "data_v4_final =  data_v4_final[data_v4_final['filtered_tweet'] != '']"
   ]
  },
  {
   "cell_type": "code",
   "execution_count": 40,
   "metadata": {},
   "outputs": [],
   "source": [
    "# #Save the final data\n",
    "# data_v4_final.to_csv('E:/Data/Gradution project/Term1 final Gradution project/data_v4_final.csv')"
   ]
  },
  {
   "attachments": {},
   "cell_type": "markdown",
   "metadata": {},
   "source": [
    "## Version 5"
   ]
  },
  {
   "cell_type": "code",
   "execution_count": 41,
   "metadata": {},
   "outputs": [
    {
     "data": {
      "text/html": [
       "<div>\n",
       "<style scoped>\n",
       "    .dataframe tbody tr th:only-of-type {\n",
       "        vertical-align: middle;\n",
       "    }\n",
       "\n",
       "    .dataframe tbody tr th {\n",
       "        vertical-align: top;\n",
       "    }\n",
       "\n",
       "    .dataframe thead th {\n",
       "        text-align: right;\n",
       "    }\n",
       "</style>\n",
       "<table border=\"1\" class=\"dataframe\">\n",
       "  <thead>\n",
       "    <tr style=\"text-align: right;\">\n",
       "      <th></th>\n",
       "      <th>Index</th>\n",
       "      <th>message to examine</th>\n",
       "      <th>label (depression result)</th>\n",
       "    </tr>\n",
       "  </thead>\n",
       "  <tbody>\n",
       "    <tr>\n",
       "      <th>0</th>\n",
       "      <td>106</td>\n",
       "      <td>just had a real good moment. i missssssssss hi...</td>\n",
       "      <td>0</td>\n",
       "    </tr>\n",
       "    <tr>\n",
       "      <th>1</th>\n",
       "      <td>217</td>\n",
       "      <td>is reading manga  http://plurk.com/p/mzp1e</td>\n",
       "      <td>0</td>\n",
       "    </tr>\n",
       "    <tr>\n",
       "      <th>2</th>\n",
       "      <td>220</td>\n",
       "      <td>@comeagainjen http://twitpic.com/2y2lx - http:...</td>\n",
       "      <td>0</td>\n",
       "    </tr>\n",
       "    <tr>\n",
       "      <th>3</th>\n",
       "      <td>288</td>\n",
       "      <td>@lapcat Need to send 'em to my accountant tomo...</td>\n",
       "      <td>0</td>\n",
       "    </tr>\n",
       "    <tr>\n",
       "      <th>4</th>\n",
       "      <td>540</td>\n",
       "      <td>ADD ME ON MYSPACE!!!  myspace.com/LookThunder</td>\n",
       "      <td>0</td>\n",
       "    </tr>\n",
       "  </tbody>\n",
       "</table>\n",
       "</div>"
      ],
      "text/plain": [
       "   Index                                 message to examine  \\\n",
       "0    106  just had a real good moment. i missssssssss hi...   \n",
       "1    217         is reading manga  http://plurk.com/p/mzp1e   \n",
       "2    220  @comeagainjen http://twitpic.com/2y2lx - http:...   \n",
       "3    288  @lapcat Need to send 'em to my accountant tomo...   \n",
       "4    540      ADD ME ON MYSPACE!!!  myspace.com/LookThunder   \n",
       "\n",
       "   label (depression result)  \n",
       "0                          0  \n",
       "1                          0  \n",
       "2                          0  \n",
       "3                          0  \n",
       "4                          0  "
      ]
     },
     "execution_count": 41,
     "metadata": {},
     "output_type": "execute_result"
    }
   ],
   "source": [
    "data_v5 = pd.read_csv('E:/Data/Gradution project/Term1 final Gradution project/Memtal health data/Raw data in the model/sentiment_tweets3.csv')\n",
    "data_v5.head()"
   ]
  },
  {
   "cell_type": "code",
   "execution_count": 42,
   "metadata": {},
   "outputs": [
    {
     "data": {
      "text/plain": [
       "['Index', 'message to examine', 'label (depression result)']"
      ]
     },
     "execution_count": 42,
     "metadata": {},
     "output_type": "execute_result"
    }
   ],
   "source": [
    "list(data_v5)"
   ]
  },
  {
   "cell_type": "code",
   "execution_count": 43,
   "metadata": {},
   "outputs": [
    {
     "data": {
      "text/html": [
       "<div>\n",
       "<style scoped>\n",
       "    .dataframe tbody tr th:only-of-type {\n",
       "        vertical-align: middle;\n",
       "    }\n",
       "\n",
       "    .dataframe tbody tr th {\n",
       "        vertical-align: top;\n",
       "    }\n",
       "\n",
       "    .dataframe thead th {\n",
       "        text-align: right;\n",
       "    }\n",
       "</style>\n",
       "<table border=\"1\" class=\"dataframe\">\n",
       "  <thead>\n",
       "    <tr style=\"text-align: right;\">\n",
       "      <th></th>\n",
       "      <th>Index</th>\n",
       "      <th>filtered_tweet</th>\n",
       "      <th>is_depression</th>\n",
       "    </tr>\n",
       "  </thead>\n",
       "  <tbody>\n",
       "    <tr>\n",
       "      <th>0</th>\n",
       "      <td>106</td>\n",
       "      <td>just had a real good moment. i missssssssss hi...</td>\n",
       "      <td>0</td>\n",
       "    </tr>\n",
       "    <tr>\n",
       "      <th>1</th>\n",
       "      <td>217</td>\n",
       "      <td>is reading manga  http://plurk.com/p/mzp1e</td>\n",
       "      <td>0</td>\n",
       "    </tr>\n",
       "    <tr>\n",
       "      <th>2</th>\n",
       "      <td>220</td>\n",
       "      <td>@comeagainjen http://twitpic.com/2y2lx - http:...</td>\n",
       "      <td>0</td>\n",
       "    </tr>\n",
       "    <tr>\n",
       "      <th>3</th>\n",
       "      <td>288</td>\n",
       "      <td>@lapcat Need to send 'em to my accountant tomo...</td>\n",
       "      <td>0</td>\n",
       "    </tr>\n",
       "    <tr>\n",
       "      <th>4</th>\n",
       "      <td>540</td>\n",
       "      <td>ADD ME ON MYSPACE!!!  myspace.com/LookThunder</td>\n",
       "      <td>0</td>\n",
       "    </tr>\n",
       "  </tbody>\n",
       "</table>\n",
       "</div>"
      ],
      "text/plain": [
       "   Index                                     filtered_tweet  is_depression\n",
       "0    106  just had a real good moment. i missssssssss hi...              0\n",
       "1    217         is reading manga  http://plurk.com/p/mzp1e              0\n",
       "2    220  @comeagainjen http://twitpic.com/2y2lx - http:...              0\n",
       "3    288  @lapcat Need to send 'em to my accountant tomo...              0\n",
       "4    540      ADD ME ON MYSPACE!!!  myspace.com/LookThunder              0"
      ]
     },
     "execution_count": 43,
     "metadata": {},
     "output_type": "execute_result"
    }
   ],
   "source": [
    "data_v5.rename(columns = {\"message to examine\":'filtered_tweet','label (depression result)':'is_depression'},inplace = True )\n",
    "data_v5.head()"
   ]
  },
  {
   "cell_type": "code",
   "execution_count": 45,
   "metadata": {},
   "outputs": [
    {
     "name": "stderr",
     "output_type": "stream",
     "text": [
      "100%|██████████| 10314/10314 [00:07<00:00, 1437.38it/s]\n"
     ]
    },
    {
     "data": {
      "text/html": [
       "<div>\n",
       "<style scoped>\n",
       "    .dataframe tbody tr th:only-of-type {\n",
       "        vertical-align: middle;\n",
       "    }\n",
       "\n",
       "    .dataframe tbody tr th {\n",
       "        vertical-align: top;\n",
       "    }\n",
       "\n",
       "    .dataframe thead th {\n",
       "        text-align: right;\n",
       "    }\n",
       "</style>\n",
       "<table border=\"1\" class=\"dataframe\">\n",
       "  <thead>\n",
       "    <tr style=\"text-align: right;\">\n",
       "      <th></th>\n",
       "      <th>Index</th>\n",
       "      <th>filtered_tweet</th>\n",
       "      <th>is_depression</th>\n",
       "    </tr>\n",
       "  </thead>\n",
       "  <tbody>\n",
       "    <tr>\n",
       "      <th>0</th>\n",
       "      <td>106</td>\n",
       "      <td>real good moment miss much</td>\n",
       "      <td>0</td>\n",
       "    </tr>\n",
       "    <tr>\n",
       "      <th>1</th>\n",
       "      <td>217</td>\n",
       "      <td>reading manga</td>\n",
       "      <td>0</td>\n",
       "    </tr>\n",
       "    <tr>\n",
       "      <th>2</th>\n",
       "      <td>220</td>\n",
       "      <td></td>\n",
       "      <td>0</td>\n",
       "    </tr>\n",
       "    <tr>\n",
       "      <th>3</th>\n",
       "      <td>288</td>\n",
       "      <td>need send em accountant tomorrow oddly wasnt e...</td>\n",
       "      <td>0</td>\n",
       "    </tr>\n",
       "    <tr>\n",
       "      <th>4</th>\n",
       "      <td>540</td>\n",
       "      <td>add myspace</td>\n",
       "      <td>0</td>\n",
       "    </tr>\n",
       "    <tr>\n",
       "      <th>...</th>\n",
       "      <td>...</td>\n",
       "      <td>...</td>\n",
       "      <td>...</td>\n",
       "    </tr>\n",
       "    <tr>\n",
       "      <th>10309</th>\n",
       "      <td>802309</td>\n",
       "      <td>depression herbo mood done stressing people de...</td>\n",
       "      <td>1</td>\n",
       "    </tr>\n",
       "    <tr>\n",
       "      <th>10310</th>\n",
       "      <td>802310</td>\n",
       "      <td>depression succumbs brain make feel like never...</td>\n",
       "      <td>1</td>\n",
       "    </tr>\n",
       "    <tr>\n",
       "      <th>10311</th>\n",
       "      <td>802311</td>\n",
       "      <td>ketamine nasal spray show promise depression s...</td>\n",
       "      <td>1</td>\n",
       "    </tr>\n",
       "    <tr>\n",
       "      <th>10312</th>\n",
       "      <td>802312</td>\n",
       "      <td>mistake bad day depression everyone em</td>\n",
       "      <td>1</td>\n",
       "    </tr>\n",
       "    <tr>\n",
       "      <th>10313</th>\n",
       "      <td>802313</td>\n",
       "      <td></td>\n",
       "      <td>1</td>\n",
       "    </tr>\n",
       "  </tbody>\n",
       "</table>\n",
       "<p>10314 rows × 3 columns</p>\n",
       "</div>"
      ],
      "text/plain": [
       "        Index                                     filtered_tweet  \\\n",
       "0         106                         real good moment miss much   \n",
       "1         217                                      reading manga   \n",
       "2         220                                                      \n",
       "3         288  need send em accountant tomorrow oddly wasnt e...   \n",
       "4         540                                        add myspace   \n",
       "...       ...                                                ...   \n",
       "10309  802309  depression herbo mood done stressing people de...   \n",
       "10310  802310  depression succumbs brain make feel like never...   \n",
       "10311  802311  ketamine nasal spray show promise depression s...   \n",
       "10312  802312             mistake bad day depression everyone em   \n",
       "10313  802313                                                      \n",
       "\n",
       "       is_depression  \n",
       "0                  0  \n",
       "1                  0  \n",
       "2                  0  \n",
       "3                  0  \n",
       "4                  0  \n",
       "...              ...  \n",
       "10309              1  \n",
       "10310              1  \n",
       "10311              1  \n",
       "10312              1  \n",
       "10313              1  \n",
       "\n",
       "[10314 rows x 3 columns]"
      ]
     },
     "execution_count": 45,
     "metadata": {},
     "output_type": "execute_result"
    }
   ],
   "source": [
    "cleaned_tweets = []\n",
    "for i in tqdm(range(len(data_v5['filtered_tweet']))):\n",
    "    tweet = data_v5['filtered_tweet'][i]\n",
    "    clean_text = p.clean(tweet)\n",
    "    filtered_tweet = clean_tweets(clean_text)\n",
    "    cleaned_tweets.append(filtered_tweet)\n",
    "    \n",
    "data_v5['filtered_tweet'] = cleaned_tweets\n",
    "data_v5"
   ]
  },
  {
   "cell_type": "code",
   "execution_count": 46,
   "metadata": {},
   "outputs": [],
   "source": [
    "# #Save the the version 5 data\n",
    "# data_v5.to_csv('E:/Data/Gradution project/Term1 final Gradution project/data_v5.csv')"
   ]
  },
  {
   "cell_type": "code",
   "execution_count": 48,
   "metadata": {},
   "outputs": [
    {
     "data": {
      "text/plain": [
       "(322044, 3)"
      ]
     },
     "execution_count": 48,
     "metadata": {},
     "output_type": "execute_result"
    }
   ],
   "source": [
    "data_v5_final = pd.concat([data_v4_final,data_v5])\n",
    "data_v5_final.shape"
   ]
  },
  {
   "attachments": {},
   "cell_type": "markdown",
   "metadata": {},
   "source": [
    "## Version 6"
   ]
  },
  {
   "cell_type": "code",
   "execution_count": 49,
   "metadata": {},
   "outputs": [
    {
     "data": {
      "text/html": [
       "<div>\n",
       "<style scoped>\n",
       "    .dataframe tbody tr th:only-of-type {\n",
       "        vertical-align: middle;\n",
       "    }\n",
       "\n",
       "    .dataframe tbody tr th {\n",
       "        vertical-align: top;\n",
       "    }\n",
       "\n",
       "    .dataframe thead th {\n",
       "        text-align: right;\n",
       "    }\n",
       "</style>\n",
       "<table border=\"1\" class=\"dataframe\">\n",
       "  <thead>\n",
       "    <tr style=\"text-align: right;\">\n",
       "      <th></th>\n",
       "      <th>filtered_tweet</th>\n",
       "      <th>is_depression</th>\n",
       "    </tr>\n",
       "  </thead>\n",
       "  <tbody>\n",
       "    <tr>\n",
       "      <th>0</th>\n",
       "      <td>we understand that most people who reply immed...</td>\n",
       "      <td>1</td>\n",
       "    </tr>\n",
       "    <tr>\n",
       "      <th>1</th>\n",
       "      <td>welcome to r depression s check in post a plac...</td>\n",
       "      <td>1</td>\n",
       "    </tr>\n",
       "    <tr>\n",
       "      <th>2</th>\n",
       "      <td>anyone else instead of sleeping more when depr...</td>\n",
       "      <td>1</td>\n",
       "    </tr>\n",
       "    <tr>\n",
       "      <th>3</th>\n",
       "      <td>i ve kind of stuffed around a lot in my life d...</td>\n",
       "      <td>1</td>\n",
       "    </tr>\n",
       "    <tr>\n",
       "      <th>4</th>\n",
       "      <td>sleep is my greatest and most comforting escap...</td>\n",
       "      <td>1</td>\n",
       "    </tr>\n",
       "  </tbody>\n",
       "</table>\n",
       "</div>"
      ],
      "text/plain": [
       "                                      filtered_tweet  is_depression\n",
       "0  we understand that most people who reply immed...              1\n",
       "1  welcome to r depression s check in post a plac...              1\n",
       "2  anyone else instead of sleeping more when depr...              1\n",
       "3  i ve kind of stuffed around a lot in my life d...              1\n",
       "4  sleep is my greatest and most comforting escap...              1"
      ]
     },
     "execution_count": 49,
     "metadata": {},
     "output_type": "execute_result"
    }
   ],
   "source": [
    "data_v6 = pd.read_csv('E:/Data/Gradution project/Term1 final Gradution project/Memtal health data/Raw data in the model/depression_dataset_reddit_cleaned.csv')\n",
    "data_v6.rename(columns = {\"clean_text\":'filtered_tweet','is_depression':'is_depression'},inplace = True )\n",
    "data_v6.head()"
   ]
  },
  {
   "cell_type": "code",
   "execution_count": 50,
   "metadata": {},
   "outputs": [
    {
     "name": "stderr",
     "output_type": "stream",
     "text": [
      "100%|██████████| 7731/7731 [00:08<00:00, 913.19it/s] \n"
     ]
    },
    {
     "data": {
      "text/html": [
       "<div>\n",
       "<style scoped>\n",
       "    .dataframe tbody tr th:only-of-type {\n",
       "        vertical-align: middle;\n",
       "    }\n",
       "\n",
       "    .dataframe tbody tr th {\n",
       "        vertical-align: top;\n",
       "    }\n",
       "\n",
       "    .dataframe thead th {\n",
       "        text-align: right;\n",
       "    }\n",
       "</style>\n",
       "<table border=\"1\" class=\"dataframe\">\n",
       "  <thead>\n",
       "    <tr style=\"text-align: right;\">\n",
       "      <th></th>\n",
       "      <th>filtered_tweet</th>\n",
       "      <th>is_depression</th>\n",
       "    </tr>\n",
       "  </thead>\n",
       "  <tbody>\n",
       "    <tr>\n",
       "      <th>0</th>\n",
       "      <td>understand people reply immediately op invitat...</td>\n",
       "      <td>1</td>\n",
       "    </tr>\n",
       "    <tr>\n",
       "      <th>1</th>\n",
       "      <td>welcome depression check post place take momen...</td>\n",
       "      <td>1</td>\n",
       "    </tr>\n",
       "    <tr>\n",
       "      <th>2</th>\n",
       "      <td>anyone else instead sleeping depressed stay ni...</td>\n",
       "      <td>1</td>\n",
       "    </tr>\n",
       "    <tr>\n",
       "      <th>3</th>\n",
       "      <td>kind stuffed around lot life delaying inevitab...</td>\n",
       "      <td>1</td>\n",
       "    </tr>\n",
       "    <tr>\n",
       "      <th>4</th>\n",
       "      <td>sleep greatest comforting escape whenever wake...</td>\n",
       "      <td>1</td>\n",
       "    </tr>\n",
       "    <tr>\n",
       "      <th>...</th>\n",
       "      <td>...</td>\n",
       "      <td>...</td>\n",
       "    </tr>\n",
       "    <tr>\n",
       "      <th>7726</th>\n",
       "      <td>snow</td>\n",
       "      <td>0</td>\n",
       "    </tr>\n",
       "    <tr>\n",
       "      <th>7727</th>\n",
       "      <td>moulin rouge mad cry</td>\n",
       "      <td>0</td>\n",
       "    </tr>\n",
       "    <tr>\n",
       "      <th>7728</th>\n",
       "      <td>trying shout find people list</td>\n",
       "      <td>0</td>\n",
       "    </tr>\n",
       "    <tr>\n",
       "      <th>7729</th>\n",
       "      <td>ughh find red sox hat got ta wear creepy nick ...</td>\n",
       "      <td>0</td>\n",
       "    </tr>\n",
       "    <tr>\n",
       "      <th>7730</th>\n",
       "      <td>slept wonderfully finally tried swatching new ...</td>\n",
       "      <td>0</td>\n",
       "    </tr>\n",
       "  </tbody>\n",
       "</table>\n",
       "<p>7731 rows × 2 columns</p>\n",
       "</div>"
      ],
      "text/plain": [
       "                                         filtered_tweet  is_depression\n",
       "0     understand people reply immediately op invitat...              1\n",
       "1     welcome depression check post place take momen...              1\n",
       "2     anyone else instead sleeping depressed stay ni...              1\n",
       "3     kind stuffed around lot life delaying inevitab...              1\n",
       "4     sleep greatest comforting escape whenever wake...              1\n",
       "...                                                 ...            ...\n",
       "7726                                               snow              0\n",
       "7727                               moulin rouge mad cry              0\n",
       "7728                      trying shout find people list              0\n",
       "7729  ughh find red sox hat got ta wear creepy nick ...              0\n",
       "7730  slept wonderfully finally tried swatching new ...              0\n",
       "\n",
       "[7731 rows x 2 columns]"
      ]
     },
     "execution_count": 50,
     "metadata": {},
     "output_type": "execute_result"
    }
   ],
   "source": [
    "cleaned_tweets = []\n",
    "for i in tqdm(range(len(data_v6['filtered_tweet']))):\n",
    "    tweet = data_v6['filtered_tweet'][i]\n",
    "    clean_text = p.clean(tweet)\n",
    "    filtered_tweet = clean_tweets(clean_text)\n",
    "    cleaned_tweets.append(filtered_tweet)\n",
    "    \n",
    "data_v6['filtered_tweet'] = cleaned_tweets\n",
    "data_v6"
   ]
  },
  {
   "cell_type": "code",
   "execution_count": 51,
   "metadata": {},
   "outputs": [
    {
     "data": {
      "text/plain": [
       "(329775, 3)"
      ]
     },
     "execution_count": 51,
     "metadata": {},
     "output_type": "execute_result"
    }
   ],
   "source": [
    "data_final = pd.concat([data_v5_final,data_v6])\n",
    "data_final.shape"
   ]
  },
  {
   "cell_type": "code",
   "execution_count": 52,
   "metadata": {},
   "outputs": [
    {
     "data": {
      "text/plain": [
       "0    169261\n",
       "1    160514\n",
       "Name: is_depression, dtype: int64"
      ]
     },
     "execution_count": 52,
     "metadata": {},
     "output_type": "execute_result"
    }
   ],
   "source": [
    "data_final['is_depression'].value_counts()"
   ]
  },
  {
   "cell_type": "code",
   "execution_count": 53,
   "metadata": {},
   "outputs": [
    {
     "data": {
      "text/plain": [
       "(329775, 3)"
      ]
     },
     "execution_count": 53,
     "metadata": {},
     "output_type": "execute_result"
    }
   ],
   "source": [
    "data_final.shape"
   ]
  },
  {
   "cell_type": "code",
   "execution_count": 54,
   "metadata": {},
   "outputs": [
    {
     "data": {
      "text/plain": [
       "(329642, 3)"
      ]
     },
     "execution_count": 54,
     "metadata": {},
     "output_type": "execute_result"
    }
   ],
   "source": [
    "#Check for duplicates before saving\n",
    "data_final.drop_duplicates(inplace= True)\n",
    "data_final.shape"
   ]
  },
  {
   "cell_type": "code",
   "execution_count": 55,
   "metadata": {},
   "outputs": [],
   "source": [
    "data_final = data_final[data_final['filtered_tweet'] != '']"
   ]
  },
  {
   "cell_type": "code",
   "execution_count": 56,
   "metadata": {},
   "outputs": [
    {
     "data": {
      "text/html": [
       "<div>\n",
       "<style scoped>\n",
       "    .dataframe tbody tr th:only-of-type {\n",
       "        vertical-align: middle;\n",
       "    }\n",
       "\n",
       "    .dataframe tbody tr th {\n",
       "        vertical-align: top;\n",
       "    }\n",
       "\n",
       "    .dataframe thead th {\n",
       "        text-align: right;\n",
       "    }\n",
       "</style>\n",
       "<table border=\"1\" class=\"dataframe\">\n",
       "  <thead>\n",
       "    <tr style=\"text-align: right;\">\n",
       "      <th></th>\n",
       "      <th>filtered_tweet</th>\n",
       "      <th>is_depression</th>\n",
       "      <th>Index</th>\n",
       "    </tr>\n",
       "  </thead>\n",
       "  <tbody>\n",
       "    <tr>\n",
       "      <th>0</th>\n",
       "      <td>year since diagnosed today taking moment refle...</td>\n",
       "      <td>1</td>\n",
       "      <td>NaN</td>\n",
       "    </tr>\n",
       "    <tr>\n",
       "      <th>1</th>\n",
       "      <td>sunday need break planning spend little time p...</td>\n",
       "      <td>1</td>\n",
       "      <td>NaN</td>\n",
       "    </tr>\n",
       "    <tr>\n",
       "      <th>2</th>\n",
       "      <td>awake tired need sleep brain idea</td>\n",
       "      <td>1</td>\n",
       "      <td>NaN</td>\n",
       "    </tr>\n",
       "    <tr>\n",
       "      <th>3</th>\n",
       "      <td>bear make perfect gift great beginner get stit...</td>\n",
       "      <td>1</td>\n",
       "      <td>NaN</td>\n",
       "    </tr>\n",
       "    <tr>\n",
       "      <th>4</th>\n",
       "      <td>hard say whether packing list making life easi...</td>\n",
       "      <td>1</td>\n",
       "      <td>NaN</td>\n",
       "    </tr>\n",
       "    <tr>\n",
       "      <th>...</th>\n",
       "      <td>...</td>\n",
       "      <td>...</td>\n",
       "      <td>...</td>\n",
       "    </tr>\n",
       "    <tr>\n",
       "      <th>7726</th>\n",
       "      <td>snow</td>\n",
       "      <td>0</td>\n",
       "      <td>NaN</td>\n",
       "    </tr>\n",
       "    <tr>\n",
       "      <th>7727</th>\n",
       "      <td>moulin rouge mad cry</td>\n",
       "      <td>0</td>\n",
       "      <td>NaN</td>\n",
       "    </tr>\n",
       "    <tr>\n",
       "      <th>7728</th>\n",
       "      <td>trying shout find people list</td>\n",
       "      <td>0</td>\n",
       "      <td>NaN</td>\n",
       "    </tr>\n",
       "    <tr>\n",
       "      <th>7729</th>\n",
       "      <td>ughh find red sox hat got ta wear creepy nick ...</td>\n",
       "      <td>0</td>\n",
       "      <td>NaN</td>\n",
       "    </tr>\n",
       "    <tr>\n",
       "      <th>7730</th>\n",
       "      <td>slept wonderfully finally tried swatching new ...</td>\n",
       "      <td>0</td>\n",
       "      <td>NaN</td>\n",
       "    </tr>\n",
       "  </tbody>\n",
       "</table>\n",
       "<p>329593 rows × 3 columns</p>\n",
       "</div>"
      ],
      "text/plain": [
       "                                         filtered_tweet is_depression  Index\n",
       "0     year since diagnosed today taking moment refle...             1    NaN\n",
       "1     sunday need break planning spend little time p...             1    NaN\n",
       "2                     awake tired need sleep brain idea             1    NaN\n",
       "3     bear make perfect gift great beginner get stit...             1    NaN\n",
       "4     hard say whether packing list making life easi...             1    NaN\n",
       "...                                                 ...           ...    ...\n",
       "7726                                               snow             0    NaN\n",
       "7727                               moulin rouge mad cry             0    NaN\n",
       "7728                      trying shout find people list             0    NaN\n",
       "7729  ughh find red sox hat got ta wear creepy nick ...             0    NaN\n",
       "7730  slept wonderfully finally tried swatching new ...             0    NaN\n",
       "\n",
       "[329593 rows x 3 columns]"
      ]
     },
     "execution_count": 56,
     "metadata": {},
     "output_type": "execute_result"
    }
   ],
   "source": [
    "data_final"
   ]
  },
  {
   "cell_type": "code",
   "execution_count": 57,
   "metadata": {},
   "outputs": [],
   "source": [
    "#Save the final data\n",
    "data_final.to_csv('E:/Data/Gradution project/Term1 final Gradution project/Memtal health data/Raw data in the model/data_final.csv')"
   ]
  },
  {
   "attachments": {},
   "cell_type": "markdown",
   "metadata": {},
   "source": [
    "Now we can use this data for modeling and get confident about the performance and good classifications models"
   ]
  }
 ],
 "metadata": {
  "kernelspec": {
   "display_name": "Python 3.9.12 ('base')",
   "language": "python",
   "name": "python3"
  },
  "language_info": {
   "codemirror_mode": {
    "name": "ipython",
    "version": 3
   },
   "file_extension": ".py",
   "mimetype": "text/x-python",
   "name": "python",
   "nbconvert_exporter": "python",
   "pygments_lexer": "ipython3",
   "version": "3.9.12"
  },
  "orig_nbformat": 4,
  "vscode": {
   "interpreter": {
    "hash": "4fe25c6b27b241e22e287c9d95ad78d24c71bb1c5bf288a4e531227b82174a1e"
   }
  }
 },
 "nbformat": 4,
 "nbformat_minor": 2
}
