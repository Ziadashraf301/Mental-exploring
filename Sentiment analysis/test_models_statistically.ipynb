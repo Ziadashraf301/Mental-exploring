{
 "cells": [
  {
   "attachments": {},
   "cell_type": "markdown",
   "metadata": {},
   "source": [
    "# Friedman test "
   ]
  },
  {
   "cell_type": "code",
   "execution_count": 6,
   "metadata": {},
   "outputs": [
    {
     "data": {
      "text/plain": [
       "array([[0.78, 0.8 , 0.8 ],\n",
       "       [0.78, 0.79, 0.8 ],\n",
       "       [0.77, 0.8 , 0.8 ],\n",
       "       [0.77, 0.8 , 0.8 ],\n",
       "       [0.77, 0.8 , 0.8 ],\n",
       "       [0.78, 0.79, 0.8 ],\n",
       "       [0.78, 0.8 , 0.8 ]])"
      ]
     },
     "execution_count": 6,
     "metadata": {},
     "output_type": "execute_result"
    }
   ],
   "source": [
    "import numpy as np\n",
    "np.array([[0.78,0.78,0.77,0.77,0.77,0.78,0.78],\n",
    "[0.80,0.79,0.80,0.80,0.80,0.79,0.80],\n",
    "[0.80,0.80,0.80,0.80,0.80,0.80,0.80]]).T"
   ]
  },
  {
   "cell_type": "code",
   "execution_count": 7,
   "metadata": {},
   "outputs": [
    {
     "name": "stdout",
     "output_type": "stream",
     "text": [
      "Friedman's test statistic: 13.130434782608686\n",
      "p-value: 0.0014085177181167655\n"
     ]
    },
    {
     "data": {
      "text/html": [
       "<div>\n",
       "<style scoped>\n",
       "    .dataframe tbody tr th:only-of-type {\n",
       "        vertical-align: middle;\n",
       "    }\n",
       "\n",
       "    .dataframe tbody tr th {\n",
       "        vertical-align: top;\n",
       "    }\n",
       "\n",
       "    .dataframe thead th {\n",
       "        text-align: right;\n",
       "    }\n",
       "</style>\n",
       "<table border=\"1\" class=\"dataframe\">\n",
       "  <thead>\n",
       "    <tr style=\"text-align: right;\">\n",
       "      <th></th>\n",
       "      <th>MNB</th>\n",
       "      <th>LSVM</th>\n",
       "      <th>LR</th>\n",
       "    </tr>\n",
       "  </thead>\n",
       "  <tbody>\n",
       "    <tr>\n",
       "      <th>Accuracy</th>\n",
       "      <td>0.78</td>\n",
       "      <td>0.80</td>\n",
       "      <td>0.8</td>\n",
       "    </tr>\n",
       "    <tr>\n",
       "      <th>Precision_C1</th>\n",
       "      <td>0.78</td>\n",
       "      <td>0.79</td>\n",
       "      <td>0.8</td>\n",
       "    </tr>\n",
       "    <tr>\n",
       "      <th>Recall_C1</th>\n",
       "      <td>0.77</td>\n",
       "      <td>0.80</td>\n",
       "      <td>0.8</td>\n",
       "    </tr>\n",
       "    <tr>\n",
       "      <th>F1-score_C1</th>\n",
       "      <td>0.77</td>\n",
       "      <td>0.80</td>\n",
       "      <td>0.8</td>\n",
       "    </tr>\n",
       "    <tr>\n",
       "      <th>Precision_C2</th>\n",
       "      <td>0.77</td>\n",
       "      <td>0.80</td>\n",
       "      <td>0.8</td>\n",
       "    </tr>\n",
       "    <tr>\n",
       "      <th>Recall_C2</th>\n",
       "      <td>0.78</td>\n",
       "      <td>0.79</td>\n",
       "      <td>0.8</td>\n",
       "    </tr>\n",
       "    <tr>\n",
       "      <th>F1-score_C2</th>\n",
       "      <td>0.78</td>\n",
       "      <td>0.80</td>\n",
       "      <td>0.8</td>\n",
       "    </tr>\n",
       "  </tbody>\n",
       "</table>\n",
       "</div>"
      ],
      "text/plain": [
       "               MNB  LSVM   LR\n",
       "Accuracy      0.78  0.80  0.8\n",
       "Precision_C1  0.78  0.79  0.8\n",
       "Recall_C1     0.77  0.80  0.8\n",
       "F1-score_C1   0.77  0.80  0.8\n",
       "Precision_C2  0.77  0.80  0.8\n",
       "Recall_C2     0.78  0.79  0.8\n",
       "F1-score_C2   0.78  0.80  0.8"
      ]
     },
     "execution_count": 7,
     "metadata": {},
     "output_type": "execute_result"
    }
   ],
   "source": [
    "import numpy as np\n",
    "from scipy.stats import friedmanchisquare\n",
    "import scikit_posthocs as sp\n",
    "import pandas as pd\n",
    "model_names = ['MNB', 'LSVM', 'LR'] #columns\n",
    "measures = [\"Accuracy\",\"Precision_C1\",\"Recall_C1\",\"F1-score_C1\",\"Precision_C2\",\"Recall_C2\",\"F1-score_C2\"] #rows\n",
    "            \n",
    "accuracies = np.array([\n",
    "       [0.78, 0.8 , 0.8 ],\n",
    "       [0.78, 0.79, 0.8 ],\n",
    "       [0.77, 0.8 , 0.8 ],\n",
    "       [0.77, 0.8 , 0.8 ],\n",
    "       [0.77, 0.8 , 0.8 ],\n",
    "       [0.78, 0.79, 0.8 ],\n",
    "       [0.78, 0.8 , 0.8 ]])\n",
    "\n",
    "\n",
    "# Perform the Friedman's test\n",
    "statistic, p_value = friedmanchisquare(*(accuracies.T))\n",
    "print(\"Friedman's test statistic:\", statistic)\n",
    "print(\"p-value:\", p_value)\n",
    "pd.DataFrame(accuracies,columns=model_names,index=measures )"
   ]
  },
  {
   "attachments": {},
   "cell_type": "markdown",
   "metadata": {},
   "source": [
    "The Friedman's test statistic of 13.13 and the p-value of 0.0014 suggest that there is a significant difference in the performance of the classifiers.\n",
    "Looking at the performance metrics of the three classifiers, it appears that LSVM and LR have similar performance with an accuracy of 0.80 and F1-score of 0.8 for both classes. MNB has slightly lower performance with an accuracy of 0.78 and F1-score of 0.77 for both classes."
   ]
  },
  {
   "attachments": {},
   "cell_type": "markdown",
   "metadata": {},
   "source": [
    "# Nemenyi test "
   ]
  },
  {
   "cell_type": "code",
   "execution_count": 10,
   "metadata": {},
   "outputs": [
    {
     "data": {
      "text/html": [
       "<div>\n",
       "<style scoped>\n",
       "    .dataframe tbody tr th:only-of-type {\n",
       "        vertical-align: middle;\n",
       "    }\n",
       "\n",
       "    .dataframe tbody tr th {\n",
       "        vertical-align: top;\n",
       "    }\n",
       "\n",
       "    .dataframe thead th {\n",
       "        text-align: right;\n",
       "    }\n",
       "</style>\n",
       "<table border=\"1\" class=\"dataframe\">\n",
       "  <thead>\n",
       "    <tr style=\"text-align: right;\">\n",
       "      <th></th>\n",
       "      <th>MNB</th>\n",
       "      <th>LSVM</th>\n",
       "      <th>LR</th>\n",
       "    </tr>\n",
       "  </thead>\n",
       "  <tbody>\n",
       "    <tr>\n",
       "      <th>MNB</th>\n",
       "      <td>-1.000000</td>\n",
       "      <td>0.029915</td>\n",
       "      <td>0.005998</td>\n",
       "    </tr>\n",
       "    <tr>\n",
       "      <th>LSVM</th>\n",
       "      <td>0.029915</td>\n",
       "      <td>-1.000000</td>\n",
       "      <td>0.837739</td>\n",
       "    </tr>\n",
       "    <tr>\n",
       "      <th>LR</th>\n",
       "      <td>0.005998</td>\n",
       "      <td>0.837739</td>\n",
       "      <td>-1.000000</td>\n",
       "    </tr>\n",
       "  </tbody>\n",
       "</table>\n",
       "</div>"
      ],
      "text/plain": [
       "           MNB      LSVM        LR\n",
       "MNB  -1.000000  0.029915  0.005998\n",
       "LSVM  0.029915 -1.000000  0.837739\n",
       "LR    0.005998  0.837739 -1.000000"
      ]
     },
     "execution_count": 10,
     "metadata": {},
     "output_type": "execute_result"
    }
   ],
   "source": [
    "# Conduct the Nemenyi post-hoc test\n",
    "nemenyi = sp.posthoc_nemenyi_friedman(accuracies)\n",
    "nemenyi.columns = model_names\n",
    "nemenyi.index = model_names\n",
    "nemenyi"
   ]
  },
  {
   "attachments": {},
   "cell_type": "markdown",
   "metadata": {},
   "source": [
    "This table is a Nemenyi matrix, which is a post-hoc test used to perform pairwise comparisons of classifiers after rejecting the null hypothesis of Friedman's test.\n",
    "\n",
    "The values in the matrix represent the critical distance between pairs of classifiers, which is the minimum difference in rank that needs to be observed for the two classifiers to be considered statistically significantly different.\n",
    "\n",
    "In the matrix, the diagonal values are always equal to -1 since the critical distance between a classifier and itself is zero. The values above and below the diagonal are mirrored since the comparison between classifier A and classifier B is equivalent to the comparison between classifier B and classifier A."
   ]
  },
  {
   "cell_type": "code",
   "execution_count": 12,
   "metadata": {},
   "outputs": [
    {
     "data": {
      "text/plain": [
       "(<AxesSubplot:>, <matplotlib.colorbar.Colorbar at 0x25235f3ed90>)"
      ]
     },
     "execution_count": 12,
     "metadata": {},
     "output_type": "execute_result"
    },
    {
     "data": {
      "image/png": "[encoded data removed]",
      "text/plain": [
       "<Figure size 432x288 with 2 Axes>"
      ]
     },
     "metadata": {
      "needs_background": "light"
     },
     "output_type": "display_data"
    }
   ],
   "source": [
    "heatmap_args = {'linewidths': 0.25, 'linecolor': '0.5', 'clip_on': False, 'square': True, 'cbar_ax_bbox': [0.80, 0.35, 0.04, 0.3]}\n",
    "sp.sign_plot(nemenyi, **heatmap_args)"
   ]
  },
  {
   "attachments": {},
   "cell_type": "markdown",
   "metadata": {},
   "source": [
    "Looking at the matrix, the largest critical distance is between MNB and LR, which is 0.005998. This suggests that MNB and LR are significantly different in terms of performance. The critical distance between MNB and LSVM is 0.029915, which is smaller than the critical distance between MNB and LR, indicating that MNB and LSVM are less significantly different than MNB and LR. Finally, the critical distance between LSVM and LR is 0.837739, which is the largest value in the matrix and indicates that LSVM and LR are not significantly different in terms of performance."
   ]
  }
 ],
 "metadata": {
  "kernelspec": {
   "display_name": "base",
   "language": "python",
   "name": "python3"
  },
  "language_info": {
   "codemirror_mode": {
    "name": "ipython",
    "version": 3
   },
   "file_extension": ".py",
   "mimetype": "text/x-python",
   "name": "python",
   "nbconvert_exporter": "python",
   "pygments_lexer": "ipython3",
   "version": "3.9.12"
  },
  "orig_nbformat": 4
 },
 "nbformat": 4,
 "nbformat_minor": 2
}
